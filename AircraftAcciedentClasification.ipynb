{
  "nbformat": 4,
  "nbformat_minor": 0,
  "metadata": {
    "colab": {
      "name": "AircraftAcciedentClasification.ipynb",
      "provenance": [],
      "collapsed_sections": [],
      "include_colab_link": true
    },
    "kernelspec": {
      "name": "python3",
      "display_name": "Python 3"
    },
    "language_info": {
      "name": "python"
    }
  },
  "cells": [
    {
      "cell_type": "markdown",
      "metadata": {
        "id": "view-in-github",
        "colab_type": "text"
      },
      "source": [
        "<a href=\"https://colab.research.google.com/github/BhaskarBurugu/adi/blob/master/AircraftAcciedentClasification.ipynb\" target=\"_parent\"><img src=\"https://colab.research.google.com/assets/colab-badge.svg\" alt=\"Open In Colab\"/></a>"
      ]
    },
    {
      "cell_type": "code",
      "metadata": {
        "colab": {
          "base_uri": "https://localhost:8080/"
        },
        "id": "PmP2xfPSMVPq",
        "outputId": "36a901eb-9154-4c71-911a-06af44c4569e"
      },
      "source": [
        "import nltk\n",
        "from nltk.corpus import stopwords\n",
        "import string\n",
        "import pandas as pd\n",
        "nltk.download('stopwords')"
      ],
      "execution_count": 1,
      "outputs": [
        {
          "output_type": "stream",
          "name": "stdout",
          "text": [
            "[nltk_data] Downloading package stopwords to /root/nltk_data...\n",
            "[nltk_data]   Unzipping corpora/stopwords.zip.\n"
          ]
        },
        {
          "output_type": "execute_result",
          "data": {
            "text/plain": [
              "True"
            ]
          },
          "metadata": {},
          "execution_count": 1
        }
      ]
    },
    {
      "cell_type": "code",
      "metadata": {
        "id": "Ro0MtmWUHpU1"
      },
      "source": [
        "from string import punctuation\n",
        "from os import listdir\n",
        "from numpy import array\n",
        "\n",
        "# Import label encoder \n",
        "from sklearn import preprocessing   \n",
        "import matplotlib.pyplot as plt"
      ],
      "execution_count": 2,
      "outputs": []
    },
    {
      "cell_type": "code",
      "metadata": {
        "colab": {
          "base_uri": "https://localhost:8080/"
        },
        "id": "Kh_62aIPIDY4",
        "outputId": "1a2d1f8a-97e8-49d2-b0e8-fd6bec589a20"
      },
      "source": [
        "from google.colab import drive\n",
        "drive.mount('/gdrive')"
      ],
      "execution_count": 3,
      "outputs": [
        {
          "output_type": "stream",
          "name": "stdout",
          "text": [
            "Mounted at /gdrive\n"
          ]
        }
      ]
    },
    {
      "cell_type": "code",
      "metadata": {
        "id": "i-jIYvdxuJmj"
      },
      "source": [
        "path = '/gdrive/My Drive/AIML/NLP/Aircraft/'"
      ],
      "execution_count": 4,
      "outputs": []
    },
    {
      "cell_type": "code",
      "metadata": {
        "id": "ZDq2CWMdZmJo"
      },
      "source": [
        "df1 = pd.read_csv(path+'Facts.csv')"
      ],
      "execution_count": 5,
      "outputs": []
    },
    {
      "cell_type": "code",
      "metadata": {
        "id": "YdA60AlM6sP9"
      },
      "source": [
        "df2 =  pd.read_csv(path+'Additional Facts.csv')"
      ],
      "execution_count": 6,
      "outputs": []
    },
    {
      "cell_type": "code",
      "metadata": {
        "colab": {
          "base_uri": "https://localhost:8080/"
        },
        "id": "n3V0rWGU9lEp",
        "outputId": "6fd1e6ff-7783-4ecd-9882-00de85270525"
      },
      "source": [
        "df1.info()"
      ],
      "execution_count": 7,
      "outputs": [
        {
          "output_type": "stream",
          "name": "stdout",
          "text": [
            "<class 'pandas.core.frame.DataFrame'>\n",
            "RangeIndex: 1738 entries, 0 to 1737\n",
            "Data columns (total 8 columns):\n",
            " #   Column         Non-Null Count  Dtype \n",
            "---  ------         --------------  ----- \n",
            " 0   Unnamed: 0     1738 non-null   int64 \n",
            " 1   Title          1738 non-null   object\n",
            " 2   Sent           1738 non-null   object\n",
            " 3   Len            1738 non-null   int64 \n",
            " 4   Check_Schemes  1738 non-null   int64 \n",
            " 5   Intraction1    1099 non-null   object\n",
            " 6   Intraction2    1098 non-null   object\n",
            " 7   Unnamed: 7     1 non-null      object\n",
            "dtypes: int64(3), object(5)\n",
            "memory usage: 108.8+ KB\n"
          ]
        }
      ]
    },
    {
      "cell_type": "code",
      "metadata": {
        "colab": {
          "base_uri": "https://localhost:8080/"
        },
        "id": "3GgJ80ypj3ZW",
        "outputId": "3b14f676-9a3a-465c-be19-b29793e108c5"
      },
      "source": [
        "df2.info()"
      ],
      "execution_count": 8,
      "outputs": [
        {
          "output_type": "stream",
          "name": "stdout",
          "text": [
            "<class 'pandas.core.frame.DataFrame'>\n",
            "RangeIndex: 85 entries, 0 to 84\n",
            "Data columns (total 3 columns):\n",
            " #   Column       Non-Null Count  Dtype \n",
            "---  ------       --------------  ----- \n",
            " 0   Sent         77 non-null     object\n",
            " 1   Intraction1  76 non-null     object\n",
            " 2   Intraction2  76 non-null     object\n",
            "dtypes: object(3)\n",
            "memory usage: 2.1+ KB\n"
          ]
        }
      ]
    },
    {
      "cell_type": "code",
      "metadata": {
        "id": "IOsvCx2TBJOe"
      },
      "source": [
        "df1.dropna(subset=['Intraction1'],inplace=True)\n",
        "df1.dropna(subset=['Intraction2'],inplace=True)"
      ],
      "execution_count": 9,
      "outputs": []
    },
    {
      "cell_type": "code",
      "metadata": {
        "id": "xMKcJVvKBM1U"
      },
      "source": [
        "df2.dropna(subset=['Intraction1'],inplace=True)\n",
        "df2.dropna(subset=['Intraction2'],inplace=True)"
      ],
      "execution_count": 10,
      "outputs": []
    },
    {
      "cell_type": "code",
      "metadata": {
        "colab": {
          "base_uri": "https://localhost:8080/"
        },
        "id": "sCm1RZzw_v5Y",
        "outputId": "1a832e67-475c-46fe-ee9e-9a829850dd58"
      },
      "source": [
        "df3 = df1[['Sent']]\n",
        "df3['label'] = df1['Intraction1'].str.strip() + '-'+df1['Intraction2'].str.strip()"
      ],
      "execution_count": 11,
      "outputs": [
        {
          "output_type": "stream",
          "name": "stderr",
          "text": [
            "/usr/local/lib/python3.7/dist-packages/ipykernel_launcher.py:2: SettingWithCopyWarning: \n",
            "A value is trying to be set on a copy of a slice from a DataFrame.\n",
            "Try using .loc[row_indexer,col_indexer] = value instead\n",
            "\n",
            "See the caveats in the documentation: https://pandas.pydata.org/pandas-docs/stable/user_guide/indexing.html#returning-a-view-versus-a-copy\n",
            "  \n"
          ]
        }
      ]
    },
    {
      "cell_type": "code",
      "metadata": {
        "colab": {
          "base_uri": "https://localhost:8080/"
        },
        "id": "gpsxUvr4Ay78",
        "outputId": "6640a845-430e-46ee-b0f0-ec772f7a9db5"
      },
      "source": [
        "df4 = df2[['Sent']]\n",
        "df4['label'] = df2['Intraction1'].str.strip() + '-'+df2['Intraction2'].str.strip()"
      ],
      "execution_count": 12,
      "outputs": [
        {
          "output_type": "stream",
          "name": "stderr",
          "text": [
            "/usr/local/lib/python3.7/dist-packages/ipykernel_launcher.py:2: SettingWithCopyWarning: \n",
            "A value is trying to be set on a copy of a slice from a DataFrame.\n",
            "Try using .loc[row_indexer,col_indexer] = value instead\n",
            "\n",
            "See the caveats in the documentation: https://pandas.pydata.org/pandas-docs/stable/user_guide/indexing.html#returning-a-view-versus-a-copy\n",
            "  \n"
          ]
        }
      ]
    },
    {
      "cell_type": "code",
      "metadata": {
        "colab": {
          "base_uri": "https://localhost:8080/"
        },
        "id": "wxzXl78CBh9Y",
        "outputId": "ff6aef52-cf4f-4293-e2fb-62b3a663cc12"
      },
      "source": [
        "df3.shape"
      ],
      "execution_count": 13,
      "outputs": [
        {
          "output_type": "execute_result",
          "data": {
            "text/plain": [
              "(1098, 2)"
            ]
          },
          "metadata": {},
          "execution_count": 13
        }
      ]
    },
    {
      "cell_type": "code",
      "metadata": {
        "colab": {
          "base_uri": "https://localhost:8080/"
        },
        "id": "CFUA5KwxBkV_",
        "outputId": "800ce67d-ac33-4320-8052-1dde36aeda54"
      },
      "source": [
        "df4.shape"
      ],
      "execution_count": 14,
      "outputs": [
        {
          "output_type": "execute_result",
          "data": {
            "text/plain": [
              "(76, 2)"
            ]
          },
          "metadata": {},
          "execution_count": 14
        }
      ]
    },
    {
      "cell_type": "code",
      "metadata": {
        "id": "VclTOyh9-96S"
      },
      "source": [
        "df=df3.append(df4,ignore_index=True)"
      ],
      "execution_count": 15,
      "outputs": []
    },
    {
      "cell_type": "code",
      "metadata": {
        "colab": {
          "base_uri": "https://localhost:8080/"
        },
        "id": "6lWNeqc7_CLp",
        "outputId": "ff5811a7-a860-4d01-fbf5-7319b5e7e560"
      },
      "source": [
        "df.shape"
      ],
      "execution_count": 16,
      "outputs": [
        {
          "output_type": "execute_result",
          "data": {
            "text/plain": [
              "(1174, 2)"
            ]
          },
          "metadata": {},
          "execution_count": 16
        }
      ]
    },
    {
      "cell_type": "code",
      "metadata": {
        "id": "Ld8RAadibB68"
      },
      "source": [
        "#label = df1['Intraction1'] + '-'+df1['Intraction1']\n",
        "#df = df1[['Title','Sent','Len']]\n",
        "#df['label'] = df1['Intraction1'].str.strip() + '-'+df1['Intraction2'].str.strip()"
      ],
      "execution_count": 17,
      "outputs": []
    },
    {
      "cell_type": "code",
      "metadata": {
        "id": "7dSEoqf4jLdg",
        "colab": {
          "base_uri": "https://localhost:8080/",
          "height": 206
        },
        "outputId": "e1e201e2-db33-4a24-bcb9-43e601cd13c9"
      },
      "source": [
        "df.head()"
      ],
      "execution_count": 18,
      "outputs": [
        {
          "output_type": "execute_result",
          "data": {
            "text/plain": [
              "                                                Sent  \\\n",
              "0   The aircraft had safely landed on runway 27 a...   \n",
              "1   The aircraft could not vacate the runway and ...   \n",
              "2   After landing while taxiing, aircraft took a ...   \n",
              "3   Major Structural damage occurred including da...   \n",
              "4   The aircraft was under the command of a pilot...   \n",
              "\n",
              "                       label  \n",
              "0    control-control process  \n",
              "1  control process-workspace  \n",
              "2  control process-workspace  \n",
              "3    control-control process  \n",
              "4    organization-processing  "
            ],
            "text/html": [
              "\n",
              "  <div id=\"df-691a4b4e-5bab-45b8-a85a-5f126dfaa662\">\n",
              "    <div class=\"colab-df-container\">\n",
              "      <div>\n",
              "<style scoped>\n",
              "    .dataframe tbody tr th:only-of-type {\n",
              "        vertical-align: middle;\n",
              "    }\n",
              "\n",
              "    .dataframe tbody tr th {\n",
              "        vertical-align: top;\n",
              "    }\n",
              "\n",
              "    .dataframe thead th {\n",
              "        text-align: right;\n",
              "    }\n",
              "</style>\n",
              "<table border=\"1\" class=\"dataframe\">\n",
              "  <thead>\n",
              "    <tr style=\"text-align: right;\">\n",
              "      <th></th>\n",
              "      <th>Sent</th>\n",
              "      <th>label</th>\n",
              "    </tr>\n",
              "  </thead>\n",
              "  <tbody>\n",
              "    <tr>\n",
              "      <th>0</th>\n",
              "      <td>The aircraft had safely landed on runway 27 a...</td>\n",
              "      <td>control-control process</td>\n",
              "    </tr>\n",
              "    <tr>\n",
              "      <th>1</th>\n",
              "      <td>The aircraft could not vacate the runway and ...</td>\n",
              "      <td>control process-workspace</td>\n",
              "    </tr>\n",
              "    <tr>\n",
              "      <th>2</th>\n",
              "      <td>After landing while taxiing, aircraft took a ...</td>\n",
              "      <td>control process-workspace</td>\n",
              "    </tr>\n",
              "    <tr>\n",
              "      <th>3</th>\n",
              "      <td>Major Structural damage occurred including da...</td>\n",
              "      <td>control-control process</td>\n",
              "    </tr>\n",
              "    <tr>\n",
              "      <th>4</th>\n",
              "      <td>The aircraft was under the command of a pilot...</td>\n",
              "      <td>organization-processing</td>\n",
              "    </tr>\n",
              "  </tbody>\n",
              "</table>\n",
              "</div>\n",
              "      <button class=\"colab-df-convert\" onclick=\"convertToInteractive('df-691a4b4e-5bab-45b8-a85a-5f126dfaa662')\"\n",
              "              title=\"Convert this dataframe to an interactive table.\"\n",
              "              style=\"display:none;\">\n",
              "        \n",
              "  <svg xmlns=\"http://www.w3.org/2000/svg\" height=\"24px\"viewBox=\"0 0 24 24\"\n",
              "       width=\"24px\">\n",
              "    <path d=\"M0 0h24v24H0V0z\" fill=\"none\"/>\n",
              "    <path d=\"M18.56 5.44l.94 2.06.94-2.06 2.06-.94-2.06-.94-.94-2.06-.94 2.06-2.06.94zm-11 1L8.5 8.5l.94-2.06 2.06-.94-2.06-.94L8.5 2.5l-.94 2.06-2.06.94zm10 10l.94 2.06.94-2.06 2.06-.94-2.06-.94-.94-2.06-.94 2.06-2.06.94z\"/><path d=\"M17.41 7.96l-1.37-1.37c-.4-.4-.92-.59-1.43-.59-.52 0-1.04.2-1.43.59L10.3 9.45l-7.72 7.72c-.78.78-.78 2.05 0 2.83L4 21.41c.39.39.9.59 1.41.59.51 0 1.02-.2 1.41-.59l7.78-7.78 2.81-2.81c.8-.78.8-2.07 0-2.86zM5.41 20L4 18.59l7.72-7.72 1.47 1.35L5.41 20z\"/>\n",
              "  </svg>\n",
              "      </button>\n",
              "      \n",
              "  <style>\n",
              "    .colab-df-container {\n",
              "      display:flex;\n",
              "      flex-wrap:wrap;\n",
              "      gap: 12px;\n",
              "    }\n",
              "\n",
              "    .colab-df-convert {\n",
              "      background-color: #E8F0FE;\n",
              "      border: none;\n",
              "      border-radius: 50%;\n",
              "      cursor: pointer;\n",
              "      display: none;\n",
              "      fill: #1967D2;\n",
              "      height: 32px;\n",
              "      padding: 0 0 0 0;\n",
              "      width: 32px;\n",
              "    }\n",
              "\n",
              "    .colab-df-convert:hover {\n",
              "      background-color: #E2EBFA;\n",
              "      box-shadow: 0px 1px 2px rgba(60, 64, 67, 0.3), 0px 1px 3px 1px rgba(60, 64, 67, 0.15);\n",
              "      fill: #174EA6;\n",
              "    }\n",
              "\n",
              "    [theme=dark] .colab-df-convert {\n",
              "      background-color: #3B4455;\n",
              "      fill: #D2E3FC;\n",
              "    }\n",
              "\n",
              "    [theme=dark] .colab-df-convert:hover {\n",
              "      background-color: #434B5C;\n",
              "      box-shadow: 0px 1px 3px 1px rgba(0, 0, 0, 0.15);\n",
              "      filter: drop-shadow(0px 1px 2px rgba(0, 0, 0, 0.3));\n",
              "      fill: #FFFFFF;\n",
              "    }\n",
              "  </style>\n",
              "\n",
              "      <script>\n",
              "        const buttonEl =\n",
              "          document.querySelector('#df-691a4b4e-5bab-45b8-a85a-5f126dfaa662 button.colab-df-convert');\n",
              "        buttonEl.style.display =\n",
              "          google.colab.kernel.accessAllowed ? 'block' : 'none';\n",
              "\n",
              "        async function convertToInteractive(key) {\n",
              "          const element = document.querySelector('#df-691a4b4e-5bab-45b8-a85a-5f126dfaa662');\n",
              "          const dataTable =\n",
              "            await google.colab.kernel.invokeFunction('convertToInteractive',\n",
              "                                                     [key], {});\n",
              "          if (!dataTable) return;\n",
              "\n",
              "          const docLinkHtml = 'Like what you see? Visit the ' +\n",
              "            '<a target=\"_blank\" href=https://colab.research.google.com/notebooks/data_table.ipynb>data table notebook</a>'\n",
              "            + ' to learn more about interactive tables.';\n",
              "          element.innerHTML = '';\n",
              "          dataTable['output_type'] = 'display_data';\n",
              "          await google.colab.output.renderOutput(dataTable, element);\n",
              "          const docLink = document.createElement('div');\n",
              "          docLink.innerHTML = docLinkHtml;\n",
              "          element.appendChild(docLink);\n",
              "        }\n",
              "      </script>\n",
              "    </div>\n",
              "  </div>\n",
              "  "
            ]
          },
          "metadata": {},
          "execution_count": 18
        }
      ]
    },
    {
      "cell_type": "code",
      "metadata": {
        "colab": {
          "base_uri": "https://localhost:8080/"
        },
        "id": "48H5bh-ZcHuo",
        "outputId": "0fbddd2e-3154-4d6a-f7f1-18f0d2c3b927"
      },
      "source": [
        "df.shape"
      ],
      "execution_count": 19,
      "outputs": [
        {
          "output_type": "execute_result",
          "data": {
            "text/plain": [
              "(1174, 2)"
            ]
          },
          "metadata": {},
          "execution_count": 19
        }
      ]
    },
    {
      "cell_type": "code",
      "metadata": {
        "id": "KDx5hBKLbny6"
      },
      "source": [
        "df.dropna(subset=['label'],inplace=True)"
      ],
      "execution_count": 20,
      "outputs": []
    },
    {
      "cell_type": "code",
      "metadata": {
        "id": "Bqf0fxF-eDZG"
      },
      "source": [
        "df = df[df.label != '---']\n",
        "df = df[df.label != '--']\n",
        "df = df[df.label != '`-`']"
      ],
      "execution_count": 21,
      "outputs": []
    },
    {
      "cell_type": "code",
      "metadata": {
        "id": "L9og0jdva8kO",
        "colab": {
          "base_uri": "https://localhost:8080/",
          "height": 424
        },
        "outputId": "ac31c5f7-b9c9-4521-bdc8-615440b56054"
      },
      "source": [
        "df[df.label != '-']"
      ],
      "execution_count": 22,
      "outputs": [
        {
          "output_type": "execute_result",
          "data": {
            "text/plain": [
              "                                                   Sent  \\\n",
              "0      The aircraft had safely landed on runway 27 a...   \n",
              "1      The aircraft could not vacate the runway and ...   \n",
              "2      After landing while taxiing, aircraft took a ...   \n",
              "3      Major Structural damage occurred including da...   \n",
              "4      The aircraft was under the command of a pilot...   \n",
              "...                                                 ...   \n",
              "1169  The fog entered in the cabin and rduced the vi...   \n",
              "1170  The cabin light was insufficient for pilots to...   \n",
              "1171  The continuous faulty alarm was distrubing the...   \n",
              "1172  the electronic interference of the system has ...   \n",
              "1173  The radio interference cause the pause in comm...   \n",
              "\n",
              "                          label  \n",
              "0       control-control process  \n",
              "1     control process-workspace  \n",
              "2     control process-workspace  \n",
              "3       control-control process  \n",
              "4       organization-processing  \n",
              "...                         ...  \n",
              "1169      workspace-environment  \n",
              "1170      workspace-environment  \n",
              "1171      workspace-environment  \n",
              "1172      workspace-environment  \n",
              "1173      workspace-environment  \n",
              "\n",
              "[724 rows x 2 columns]"
            ],
            "text/html": [
              "\n",
              "  <div id=\"df-4b0d41dc-46b6-4f7c-a210-e80d74191234\">\n",
              "    <div class=\"colab-df-container\">\n",
              "      <div>\n",
              "<style scoped>\n",
              "    .dataframe tbody tr th:only-of-type {\n",
              "        vertical-align: middle;\n",
              "    }\n",
              "\n",
              "    .dataframe tbody tr th {\n",
              "        vertical-align: top;\n",
              "    }\n",
              "\n",
              "    .dataframe thead th {\n",
              "        text-align: right;\n",
              "    }\n",
              "</style>\n",
              "<table border=\"1\" class=\"dataframe\">\n",
              "  <thead>\n",
              "    <tr style=\"text-align: right;\">\n",
              "      <th></th>\n",
              "      <th>Sent</th>\n",
              "      <th>label</th>\n",
              "    </tr>\n",
              "  </thead>\n",
              "  <tbody>\n",
              "    <tr>\n",
              "      <th>0</th>\n",
              "      <td>The aircraft had safely landed on runway 27 a...</td>\n",
              "      <td>control-control process</td>\n",
              "    </tr>\n",
              "    <tr>\n",
              "      <th>1</th>\n",
              "      <td>The aircraft could not vacate the runway and ...</td>\n",
              "      <td>control process-workspace</td>\n",
              "    </tr>\n",
              "    <tr>\n",
              "      <th>2</th>\n",
              "      <td>After landing while taxiing, aircraft took a ...</td>\n",
              "      <td>control process-workspace</td>\n",
              "    </tr>\n",
              "    <tr>\n",
              "      <th>3</th>\n",
              "      <td>Major Structural damage occurred including da...</td>\n",
              "      <td>control-control process</td>\n",
              "    </tr>\n",
              "    <tr>\n",
              "      <th>4</th>\n",
              "      <td>The aircraft was under the command of a pilot...</td>\n",
              "      <td>organization-processing</td>\n",
              "    </tr>\n",
              "    <tr>\n",
              "      <th>...</th>\n",
              "      <td>...</td>\n",
              "      <td>...</td>\n",
              "    </tr>\n",
              "    <tr>\n",
              "      <th>1169</th>\n",
              "      <td>The fog entered in the cabin and rduced the vi...</td>\n",
              "      <td>workspace-environment</td>\n",
              "    </tr>\n",
              "    <tr>\n",
              "      <th>1170</th>\n",
              "      <td>The cabin light was insufficient for pilots to...</td>\n",
              "      <td>workspace-environment</td>\n",
              "    </tr>\n",
              "    <tr>\n",
              "      <th>1171</th>\n",
              "      <td>The continuous faulty alarm was distrubing the...</td>\n",
              "      <td>workspace-environment</td>\n",
              "    </tr>\n",
              "    <tr>\n",
              "      <th>1172</th>\n",
              "      <td>the electronic interference of the system has ...</td>\n",
              "      <td>workspace-environment</td>\n",
              "    </tr>\n",
              "    <tr>\n",
              "      <th>1173</th>\n",
              "      <td>The radio interference cause the pause in comm...</td>\n",
              "      <td>workspace-environment</td>\n",
              "    </tr>\n",
              "  </tbody>\n",
              "</table>\n",
              "<p>724 rows × 2 columns</p>\n",
              "</div>\n",
              "      <button class=\"colab-df-convert\" onclick=\"convertToInteractive('df-4b0d41dc-46b6-4f7c-a210-e80d74191234')\"\n",
              "              title=\"Convert this dataframe to an interactive table.\"\n",
              "              style=\"display:none;\">\n",
              "        \n",
              "  <svg xmlns=\"http://www.w3.org/2000/svg\" height=\"24px\"viewBox=\"0 0 24 24\"\n",
              "       width=\"24px\">\n",
              "    <path d=\"M0 0h24v24H0V0z\" fill=\"none\"/>\n",
              "    <path d=\"M18.56 5.44l.94 2.06.94-2.06 2.06-.94-2.06-.94-.94-2.06-.94 2.06-2.06.94zm-11 1L8.5 8.5l.94-2.06 2.06-.94-2.06-.94L8.5 2.5l-.94 2.06-2.06.94zm10 10l.94 2.06.94-2.06 2.06-.94-2.06-.94-.94-2.06-.94 2.06-2.06.94z\"/><path d=\"M17.41 7.96l-1.37-1.37c-.4-.4-.92-.59-1.43-.59-.52 0-1.04.2-1.43.59L10.3 9.45l-7.72 7.72c-.78.78-.78 2.05 0 2.83L4 21.41c.39.39.9.59 1.41.59.51 0 1.02-.2 1.41-.59l7.78-7.78 2.81-2.81c.8-.78.8-2.07 0-2.86zM5.41 20L4 18.59l7.72-7.72 1.47 1.35L5.41 20z\"/>\n",
              "  </svg>\n",
              "      </button>\n",
              "      \n",
              "  <style>\n",
              "    .colab-df-container {\n",
              "      display:flex;\n",
              "      flex-wrap:wrap;\n",
              "      gap: 12px;\n",
              "    }\n",
              "\n",
              "    .colab-df-convert {\n",
              "      background-color: #E8F0FE;\n",
              "      border: none;\n",
              "      border-radius: 50%;\n",
              "      cursor: pointer;\n",
              "      display: none;\n",
              "      fill: #1967D2;\n",
              "      height: 32px;\n",
              "      padding: 0 0 0 0;\n",
              "      width: 32px;\n",
              "    }\n",
              "\n",
              "    .colab-df-convert:hover {\n",
              "      background-color: #E2EBFA;\n",
              "      box-shadow: 0px 1px 2px rgba(60, 64, 67, 0.3), 0px 1px 3px 1px rgba(60, 64, 67, 0.15);\n",
              "      fill: #174EA6;\n",
              "    }\n",
              "\n",
              "    [theme=dark] .colab-df-convert {\n",
              "      background-color: #3B4455;\n",
              "      fill: #D2E3FC;\n",
              "    }\n",
              "\n",
              "    [theme=dark] .colab-df-convert:hover {\n",
              "      background-color: #434B5C;\n",
              "      box-shadow: 0px 1px 3px 1px rgba(0, 0, 0, 0.15);\n",
              "      filter: drop-shadow(0px 1px 2px rgba(0, 0, 0, 0.3));\n",
              "      fill: #FFFFFF;\n",
              "    }\n",
              "  </style>\n",
              "\n",
              "      <script>\n",
              "        const buttonEl =\n",
              "          document.querySelector('#df-4b0d41dc-46b6-4f7c-a210-e80d74191234 button.colab-df-convert');\n",
              "        buttonEl.style.display =\n",
              "          google.colab.kernel.accessAllowed ? 'block' : 'none';\n",
              "\n",
              "        async function convertToInteractive(key) {\n",
              "          const element = document.querySelector('#df-4b0d41dc-46b6-4f7c-a210-e80d74191234');\n",
              "          const dataTable =\n",
              "            await google.colab.kernel.invokeFunction('convertToInteractive',\n",
              "                                                     [key], {});\n",
              "          if (!dataTable) return;\n",
              "\n",
              "          const docLinkHtml = 'Like what you see? Visit the ' +\n",
              "            '<a target=\"_blank\" href=https://colab.research.google.com/notebooks/data_table.ipynb>data table notebook</a>'\n",
              "            + ' to learn more about interactive tables.';\n",
              "          element.innerHTML = '';\n",
              "          dataTable['output_type'] = 'display_data';\n",
              "          await google.colab.output.renderOutput(dataTable, element);\n",
              "          const docLink = document.createElement('div');\n",
              "          docLink.innerHTML = docLinkHtml;\n",
              "          element.appendChild(docLink);\n",
              "        }\n",
              "      </script>\n",
              "    </div>\n",
              "  </div>\n",
              "  "
            ]
          },
          "metadata": {},
          "execution_count": 22
        }
      ]
    },
    {
      "cell_type": "code",
      "metadata": {
        "id": "uY0A34lCcQKN",
        "colab": {
          "base_uri": "https://localhost:8080/",
          "height": 206
        },
        "outputId": "9a57357a-9d81-406e-e2c3-1ce5b1858c33"
      },
      "source": [
        "df.head()"
      ],
      "execution_count": 23,
      "outputs": [
        {
          "output_type": "execute_result",
          "data": {
            "text/plain": [
              "                                                Sent  \\\n",
              "0   The aircraft had safely landed on runway 27 a...   \n",
              "1   The aircraft could not vacate the runway and ...   \n",
              "2   After landing while taxiing, aircraft took a ...   \n",
              "3   Major Structural damage occurred including da...   \n",
              "4   The aircraft was under the command of a pilot...   \n",
              "\n",
              "                       label  \n",
              "0    control-control process  \n",
              "1  control process-workspace  \n",
              "2  control process-workspace  \n",
              "3    control-control process  \n",
              "4    organization-processing  "
            ],
            "text/html": [
              "\n",
              "  <div id=\"df-5d692972-a365-4007-b008-0146aa580238\">\n",
              "    <div class=\"colab-df-container\">\n",
              "      <div>\n",
              "<style scoped>\n",
              "    .dataframe tbody tr th:only-of-type {\n",
              "        vertical-align: middle;\n",
              "    }\n",
              "\n",
              "    .dataframe tbody tr th {\n",
              "        vertical-align: top;\n",
              "    }\n",
              "\n",
              "    .dataframe thead th {\n",
              "        text-align: right;\n",
              "    }\n",
              "</style>\n",
              "<table border=\"1\" class=\"dataframe\">\n",
              "  <thead>\n",
              "    <tr style=\"text-align: right;\">\n",
              "      <th></th>\n",
              "      <th>Sent</th>\n",
              "      <th>label</th>\n",
              "    </tr>\n",
              "  </thead>\n",
              "  <tbody>\n",
              "    <tr>\n",
              "      <th>0</th>\n",
              "      <td>The aircraft had safely landed on runway 27 a...</td>\n",
              "      <td>control-control process</td>\n",
              "    </tr>\n",
              "    <tr>\n",
              "      <th>1</th>\n",
              "      <td>The aircraft could not vacate the runway and ...</td>\n",
              "      <td>control process-workspace</td>\n",
              "    </tr>\n",
              "    <tr>\n",
              "      <th>2</th>\n",
              "      <td>After landing while taxiing, aircraft took a ...</td>\n",
              "      <td>control process-workspace</td>\n",
              "    </tr>\n",
              "    <tr>\n",
              "      <th>3</th>\n",
              "      <td>Major Structural damage occurred including da...</td>\n",
              "      <td>control-control process</td>\n",
              "    </tr>\n",
              "    <tr>\n",
              "      <th>4</th>\n",
              "      <td>The aircraft was under the command of a pilot...</td>\n",
              "      <td>organization-processing</td>\n",
              "    </tr>\n",
              "  </tbody>\n",
              "</table>\n",
              "</div>\n",
              "      <button class=\"colab-df-convert\" onclick=\"convertToInteractive('df-5d692972-a365-4007-b008-0146aa580238')\"\n",
              "              title=\"Convert this dataframe to an interactive table.\"\n",
              "              style=\"display:none;\">\n",
              "        \n",
              "  <svg xmlns=\"http://www.w3.org/2000/svg\" height=\"24px\"viewBox=\"0 0 24 24\"\n",
              "       width=\"24px\">\n",
              "    <path d=\"M0 0h24v24H0V0z\" fill=\"none\"/>\n",
              "    <path d=\"M18.56 5.44l.94 2.06.94-2.06 2.06-.94-2.06-.94-.94-2.06-.94 2.06-2.06.94zm-11 1L8.5 8.5l.94-2.06 2.06-.94-2.06-.94L8.5 2.5l-.94 2.06-2.06.94zm10 10l.94 2.06.94-2.06 2.06-.94-2.06-.94-.94-2.06-.94 2.06-2.06.94z\"/><path d=\"M17.41 7.96l-1.37-1.37c-.4-.4-.92-.59-1.43-.59-.52 0-1.04.2-1.43.59L10.3 9.45l-7.72 7.72c-.78.78-.78 2.05 0 2.83L4 21.41c.39.39.9.59 1.41.59.51 0 1.02-.2 1.41-.59l7.78-7.78 2.81-2.81c.8-.78.8-2.07 0-2.86zM5.41 20L4 18.59l7.72-7.72 1.47 1.35L5.41 20z\"/>\n",
              "  </svg>\n",
              "      </button>\n",
              "      \n",
              "  <style>\n",
              "    .colab-df-container {\n",
              "      display:flex;\n",
              "      flex-wrap:wrap;\n",
              "      gap: 12px;\n",
              "    }\n",
              "\n",
              "    .colab-df-convert {\n",
              "      background-color: #E8F0FE;\n",
              "      border: none;\n",
              "      border-radius: 50%;\n",
              "      cursor: pointer;\n",
              "      display: none;\n",
              "      fill: #1967D2;\n",
              "      height: 32px;\n",
              "      padding: 0 0 0 0;\n",
              "      width: 32px;\n",
              "    }\n",
              "\n",
              "    .colab-df-convert:hover {\n",
              "      background-color: #E2EBFA;\n",
              "      box-shadow: 0px 1px 2px rgba(60, 64, 67, 0.3), 0px 1px 3px 1px rgba(60, 64, 67, 0.15);\n",
              "      fill: #174EA6;\n",
              "    }\n",
              "\n",
              "    [theme=dark] .colab-df-convert {\n",
              "      background-color: #3B4455;\n",
              "      fill: #D2E3FC;\n",
              "    }\n",
              "\n",
              "    [theme=dark] .colab-df-convert:hover {\n",
              "      background-color: #434B5C;\n",
              "      box-shadow: 0px 1px 3px 1px rgba(0, 0, 0, 0.15);\n",
              "      filter: drop-shadow(0px 1px 2px rgba(0, 0, 0, 0.3));\n",
              "      fill: #FFFFFF;\n",
              "    }\n",
              "  </style>\n",
              "\n",
              "      <script>\n",
              "        const buttonEl =\n",
              "          document.querySelector('#df-5d692972-a365-4007-b008-0146aa580238 button.colab-df-convert');\n",
              "        buttonEl.style.display =\n",
              "          google.colab.kernel.accessAllowed ? 'block' : 'none';\n",
              "\n",
              "        async function convertToInteractive(key) {\n",
              "          const element = document.querySelector('#df-5d692972-a365-4007-b008-0146aa580238');\n",
              "          const dataTable =\n",
              "            await google.colab.kernel.invokeFunction('convertToInteractive',\n",
              "                                                     [key], {});\n",
              "          if (!dataTable) return;\n",
              "\n",
              "          const docLinkHtml = 'Like what you see? Visit the ' +\n",
              "            '<a target=\"_blank\" href=https://colab.research.google.com/notebooks/data_table.ipynb>data table notebook</a>'\n",
              "            + ' to learn more about interactive tables.';\n",
              "          element.innerHTML = '';\n",
              "          dataTable['output_type'] = 'display_data';\n",
              "          await google.colab.output.renderOutput(dataTable, element);\n",
              "          const docLink = document.createElement('div');\n",
              "          docLink.innerHTML = docLinkHtml;\n",
              "          element.appendChild(docLink);\n",
              "        }\n",
              "      </script>\n",
              "    </div>\n",
              "  </div>\n",
              "  "
            ]
          },
          "metadata": {},
          "execution_count": 23
        }
      ]
    },
    {
      "cell_type": "code",
      "metadata": {
        "id": "wloeLd1KcddU",
        "colab": {
          "base_uri": "https://localhost:8080/"
        },
        "outputId": "43b659fc-86a7-445f-b277-359515c8fbcd"
      },
      "source": [
        "df['label'].value_counts()"
      ],
      "execution_count": 24,
      "outputs": [
        {
          "output_type": "execute_result",
          "data": {
            "text/plain": [
              "organization-processing        175\n",
              "actuator-control               123\n",
              "control-control process        115\n",
              "sensor-processing               90\n",
              "control process-environment     68\n",
              "control process-display         42\n",
              "display-sensor                  29\n",
              "processing-actuator             25\n",
              "sensor-environment              15\n",
              "workspace-environment           15\n",
              "control process-workspace       12\n",
              "sensor-workspace                 6\n",
              "sensor-display                   3\n",
              "control-display                  2\n",
              "processing-control               1\n",
              "processing-workspace             1\n",
              "control-environment              1\n",
              "display-processing               1\n",
              "Name: label, dtype: int64"
            ]
          },
          "metadata": {},
          "execution_count": 24
        }
      ]
    },
    {
      "cell_type": "code",
      "metadata": {
        "colab": {
          "base_uri": "https://localhost:8080/",
          "height": 283
        },
        "id": "1zAD9x9pXg_y",
        "outputId": "f10b4019-5d38-4376-8342-1b6a55494cb6"
      },
      "source": [
        "# using a function df.plot.bar()\n",
        "df.label.value_counts().sort_values().plot(kind = 'barh')"
      ],
      "execution_count": 25,
      "outputs": [
        {
          "output_type": "execute_result",
          "data": {
            "text/plain": [
              "<matplotlib.axes._subplots.AxesSubplot at 0x7fc120b1ab90>"
            ]
          },
          "metadata": {},
          "execution_count": 25
        },
        {
          "output_type": "display_data",
          "data": {
            "text/plain": [
              "<Figure size 432x288 with 1 Axes>"
            ],
            "image/png": "[encoded data removed]"
          },
          "metadata": {
            "needs_background": "light"
          }
        }
      ]
    },
    {
      "cell_type": "code",
      "metadata": {
        "id": "QQ4t1Ta4EXvg"
      },
      "source": [
        "df1 = df[df['label']=='organization-processing'][0:15]\n",
        "df_final = df1\n",
        "\n",
        "df1 = df[df['label']=='actuator-control'][0:15]\n",
        "df_final = df_final.append(df1)\n",
        "\n",
        "df1 = df[df['label']=='control-control process'][0:15]\n",
        "df_final = df_final.append(df1)\n",
        "\n",
        "df1 = df[df['label']=='sensor-processing'][0:15]\n",
        "df_final = df_final.append(df1)\n",
        "\n"
      ],
      "execution_count": 26,
      "outputs": []
    },
    {
      "cell_type": "code",
      "metadata": {
        "id": "jBbiJyeiDBGD"
      },
      "source": [
        "#@title\n",
        "df1 = df[df['label']=='control process-environment'][0:15]\n",
        "df_final = df_final.append(df1)\n",
        "\n",
        "df1 = df[df['label']=='control process-display'][0:15]\n",
        "df_final = df_final.append(df1)\n",
        "\n",
        "df1 = df[df['label']=='display-sensor'][0:15]\n",
        "df_final = df_final.append(df1)\n",
        "\n",
        "df1 = df[df['label']=='processing-actuator'][0:15]\n",
        "df_final = df_final.append(df1)\n",
        "\n",
        "df1 = df[df['label']=='workspace-environment'][0:15]\n",
        "df_final = df_final.append(df1)\n",
        "\n",
        "df1 = df[df['label']=='sensor-environment'][0:15]\n",
        "df_final = df_final.append(df1)\n",
        "\n",
        "df1 = df[df['label']=='control process-workspace'][0:12]\n",
        "df_final = df_final.append(df1)"
      ],
      "execution_count": 27,
      "outputs": []
    },
    {
      "cell_type": "code",
      "metadata": {
        "id": "Vhay-Avp1bL5"
      },
      "source": [
        "# label_encoder object knows how to understand word labels. \n",
        "label_encoder = preprocessing.LabelEncoder()"
      ],
      "execution_count": 28,
      "outputs": []
    },
    {
      "cell_type": "code",
      "metadata": {
        "id": "f5IZ1A7-1f3t",
        "colab": {
          "base_uri": "https://localhost:8080/",
          "height": 424
        },
        "outputId": "1f9a46da-4feb-4178-a0d7-f7cbe40f7192"
      },
      "source": [
        "# Encode labels in \n",
        "df_final['label_y']= label_encoder.fit_transform(df_final['label'])   \n",
        "df_final"
      ],
      "execution_count": 29,
      "outputs": [
        {
          "output_type": "execute_result",
          "data": {
            "text/plain": [
              "                                                  Sent  \\\n",
              "4     The aircraft was under the command of a pilot...   \n",
              "6     The aircraft was under command of PIC having ...   \n",
              "11    The aircraft was under the command of student...   \n",
              "12    The training flight was authorized by Flight ...   \n",
              "13    The first sortie of the student trainee pilot...   \n",
              "..                                                 ...   \n",
              "110   Pilot’s attempt to land on a slush covered ru...   \n",
              "112   AFM did not adequately emphasize landing dist...   \n",
              "353   The airplane came to rest in a drainage ditch...   \n",
              "693   Friction quality of the last 1,500 feet of ru...   \n",
              "694   Obstruction of a concrete culvert located 318...   \n",
              "\n",
              "                         label  label_y  \n",
              "4      organization-processing        6  \n",
              "6      organization-processing        6  \n",
              "11     organization-processing        6  \n",
              "12     organization-processing        6  \n",
              "13     organization-processing        6  \n",
              "..                         ...      ...  \n",
              "110  control process-workspace        3  \n",
              "112  control process-workspace        3  \n",
              "353  control process-workspace        3  \n",
              "693  control process-workspace        3  \n",
              "694  control process-workspace        3  \n",
              "\n",
              "[162 rows x 3 columns]"
            ],
            "text/html": [
              "\n",
              "  <div id=\"df-8c6bef8a-ff9f-4a1f-adbc-ff28d2c570c9\">\n",
              "    <div class=\"colab-df-container\">\n",
              "      <div>\n",
              "<style scoped>\n",
              "    .dataframe tbody tr th:only-of-type {\n",
              "        vertical-align: middle;\n",
              "    }\n",
              "\n",
              "    .dataframe tbody tr th {\n",
              "        vertical-align: top;\n",
              "    }\n",
              "\n",
              "    .dataframe thead th {\n",
              "        text-align: right;\n",
              "    }\n",
              "</style>\n",
              "<table border=\"1\" class=\"dataframe\">\n",
              "  <thead>\n",
              "    <tr style=\"text-align: right;\">\n",
              "      <th></th>\n",
              "      <th>Sent</th>\n",
              "      <th>label</th>\n",
              "      <th>label_y</th>\n",
              "    </tr>\n",
              "  </thead>\n",
              "  <tbody>\n",
              "    <tr>\n",
              "      <th>4</th>\n",
              "      <td>The aircraft was under the command of a pilot...</td>\n",
              "      <td>organization-processing</td>\n",
              "      <td>6</td>\n",
              "    </tr>\n",
              "    <tr>\n",
              "      <th>6</th>\n",
              "      <td>The aircraft was under command of PIC having ...</td>\n",
              "      <td>organization-processing</td>\n",
              "      <td>6</td>\n",
              "    </tr>\n",
              "    <tr>\n",
              "      <th>11</th>\n",
              "      <td>The aircraft was under the command of student...</td>\n",
              "      <td>organization-processing</td>\n",
              "      <td>6</td>\n",
              "    </tr>\n",
              "    <tr>\n",
              "      <th>12</th>\n",
              "      <td>The training flight was authorized by Flight ...</td>\n",
              "      <td>organization-processing</td>\n",
              "      <td>6</td>\n",
              "    </tr>\n",
              "    <tr>\n",
              "      <th>13</th>\n",
              "      <td>The first sortie of the student trainee pilot...</td>\n",
              "      <td>organization-processing</td>\n",
              "      <td>6</td>\n",
              "    </tr>\n",
              "    <tr>\n",
              "      <th>...</th>\n",
              "      <td>...</td>\n",
              "      <td>...</td>\n",
              "      <td>...</td>\n",
              "    </tr>\n",
              "    <tr>\n",
              "      <th>110</th>\n",
              "      <td>Pilot’s attempt to land on a slush covered ru...</td>\n",
              "      <td>control process-workspace</td>\n",
              "      <td>3</td>\n",
              "    </tr>\n",
              "    <tr>\n",
              "      <th>112</th>\n",
              "      <td>AFM did not adequately emphasize landing dist...</td>\n",
              "      <td>control process-workspace</td>\n",
              "      <td>3</td>\n",
              "    </tr>\n",
              "    <tr>\n",
              "      <th>353</th>\n",
              "      <td>The airplane came to rest in a drainage ditch...</td>\n",
              "      <td>control process-workspace</td>\n",
              "      <td>3</td>\n",
              "    </tr>\n",
              "    <tr>\n",
              "      <th>693</th>\n",
              "      <td>Friction quality of the last 1,500 feet of ru...</td>\n",
              "      <td>control process-workspace</td>\n",
              "      <td>3</td>\n",
              "    </tr>\n",
              "    <tr>\n",
              "      <th>694</th>\n",
              "      <td>Obstruction of a concrete culvert located 318...</td>\n",
              "      <td>control process-workspace</td>\n",
              "      <td>3</td>\n",
              "    </tr>\n",
              "  </tbody>\n",
              "</table>\n",
              "<p>162 rows × 3 columns</p>\n",
              "</div>\n",
              "      <button class=\"colab-df-convert\" onclick=\"convertToInteractive('df-8c6bef8a-ff9f-4a1f-adbc-ff28d2c570c9')\"\n",
              "              title=\"Convert this dataframe to an interactive table.\"\n",
              "              style=\"display:none;\">\n",
              "        \n",
              "  <svg xmlns=\"http://www.w3.org/2000/svg\" height=\"24px\"viewBox=\"0 0 24 24\"\n",
              "       width=\"24px\">\n",
              "    <path d=\"M0 0h24v24H0V0z\" fill=\"none\"/>\n",
              "    <path d=\"M18.56 5.44l.94 2.06.94-2.06 2.06-.94-2.06-.94-.94-2.06-.94 2.06-2.06.94zm-11 1L8.5 8.5l.94-2.06 2.06-.94-2.06-.94L8.5 2.5l-.94 2.06-2.06.94zm10 10l.94 2.06.94-2.06 2.06-.94-2.06-.94-.94-2.06-.94 2.06-2.06.94z\"/><path d=\"M17.41 7.96l-1.37-1.37c-.4-.4-.92-.59-1.43-.59-.52 0-1.04.2-1.43.59L10.3 9.45l-7.72 7.72c-.78.78-.78 2.05 0 2.83L4 21.41c.39.39.9.59 1.41.59.51 0 1.02-.2 1.41-.59l7.78-7.78 2.81-2.81c.8-.78.8-2.07 0-2.86zM5.41 20L4 18.59l7.72-7.72 1.47 1.35L5.41 20z\"/>\n",
              "  </svg>\n",
              "      </button>\n",
              "      \n",
              "  <style>\n",
              "    .colab-df-container {\n",
              "      display:flex;\n",
              "      flex-wrap:wrap;\n",
              "      gap: 12px;\n",
              "    }\n",
              "\n",
              "    .colab-df-convert {\n",
              "      background-color: #E8F0FE;\n",
              "      border: none;\n",
              "      border-radius: 50%;\n",
              "      cursor: pointer;\n",
              "      display: none;\n",
              "      fill: #1967D2;\n",
              "      height: 32px;\n",
              "      padding: 0 0 0 0;\n",
              "      width: 32px;\n",
              "    }\n",
              "\n",
              "    .colab-df-convert:hover {\n",
              "      background-color: #E2EBFA;\n",
              "      box-shadow: 0px 1px 2px rgba(60, 64, 67, 0.3), 0px 1px 3px 1px rgba(60, 64, 67, 0.15);\n",
              "      fill: #174EA6;\n",
              "    }\n",
              "\n",
              "    [theme=dark] .colab-df-convert {\n",
              "      background-color: #3B4455;\n",
              "      fill: #D2E3FC;\n",
              "    }\n",
              "\n",
              "    [theme=dark] .colab-df-convert:hover {\n",
              "      background-color: #434B5C;\n",
              "      box-shadow: 0px 1px 3px 1px rgba(0, 0, 0, 0.15);\n",
              "      filter: drop-shadow(0px 1px 2px rgba(0, 0, 0, 0.3));\n",
              "      fill: #FFFFFF;\n",
              "    }\n",
              "  </style>\n",
              "\n",
              "      <script>\n",
              "        const buttonEl =\n",
              "          document.querySelector('#df-8c6bef8a-ff9f-4a1f-adbc-ff28d2c570c9 button.colab-df-convert');\n",
              "        buttonEl.style.display =\n",
              "          google.colab.kernel.accessAllowed ? 'block' : 'none';\n",
              "\n",
              "        async function convertToInteractive(key) {\n",
              "          const element = document.querySelector('#df-8c6bef8a-ff9f-4a1f-adbc-ff28d2c570c9');\n",
              "          const dataTable =\n",
              "            await google.colab.kernel.invokeFunction('convertToInteractive',\n",
              "                                                     [key], {});\n",
              "          if (!dataTable) return;\n",
              "\n",
              "          const docLinkHtml = 'Like what you see? Visit the ' +\n",
              "            '<a target=\"_blank\" href=https://colab.research.google.com/notebooks/data_table.ipynb>data table notebook</a>'\n",
              "            + ' to learn more about interactive tables.';\n",
              "          element.innerHTML = '';\n",
              "          dataTable['output_type'] = 'display_data';\n",
              "          await google.colab.output.renderOutput(dataTable, element);\n",
              "          const docLink = document.createElement('div');\n",
              "          docLink.innerHTML = docLinkHtml;\n",
              "          element.appendChild(docLink);\n",
              "        }\n",
              "      </script>\n",
              "    </div>\n",
              "  </div>\n",
              "  "
            ]
          },
          "metadata": {},
          "execution_count": 29
        }
      ]
    },
    {
      "cell_type": "code",
      "metadata": {
        "colab": {
          "base_uri": "https://localhost:8080/"
        },
        "id": "A_gYiLwlEjcJ",
        "outputId": "3732a6a8-bdbb-4245-f044-5b671588f6c8"
      },
      "source": [
        "df_final.shape"
      ],
      "execution_count": 30,
      "outputs": [
        {
          "output_type": "execute_result",
          "data": {
            "text/plain": [
              "(162, 3)"
            ]
          },
          "metadata": {},
          "execution_count": 30
        }
      ]
    },
    {
      "cell_type": "code",
      "metadata": {
        "id": "veUTzMWEHFZU"
      },
      "source": [
        "df_final = df_final.sample(frac=1)"
      ],
      "execution_count": 31,
      "outputs": []
    },
    {
      "cell_type": "code",
      "metadata": {
        "colab": {
          "base_uri": "https://localhost:8080/",
          "height": 206
        },
        "id": "a9SYIyYNHIEp",
        "outputId": "53296877-6166-4938-d3eb-1c4de3366db5"
      },
      "source": [
        "df_final.head()"
      ],
      "execution_count": 32,
      "outputs": [
        {
          "output_type": "execute_result",
          "data": {
            "text/plain": [
              "                                                   Sent  \\\n",
              "19     The ATC controller immediately activated the ...   \n",
              "131    The aircraft was damaged by the release of hi...   \n",
              "35     The aircraft came to rest in 25 feet of water...   \n",
              "1101  crew found themselves in poor and rapidly dete...   \n",
              "78                                2 engine fire warning   \n",
              "\n",
              "                        label  label_y  \n",
              "19    organization-processing        6  \n",
              "131   control process-display        1  \n",
              "35    control-control process        4  \n",
              "1101       sensor-environment        8  \n",
              "78    control process-display        1  "
            ],
            "text/html": [
              "\n",
              "  <div id=\"df-8fcc4b3f-42c6-488c-ad2d-b146ca6396cf\">\n",
              "    <div class=\"colab-df-container\">\n",
              "      <div>\n",
              "<style scoped>\n",
              "    .dataframe tbody tr th:only-of-type {\n",
              "        vertical-align: middle;\n",
              "    }\n",
              "\n",
              "    .dataframe tbody tr th {\n",
              "        vertical-align: top;\n",
              "    }\n",
              "\n",
              "    .dataframe thead th {\n",
              "        text-align: right;\n",
              "    }\n",
              "</style>\n",
              "<table border=\"1\" class=\"dataframe\">\n",
              "  <thead>\n",
              "    <tr style=\"text-align: right;\">\n",
              "      <th></th>\n",
              "      <th>Sent</th>\n",
              "      <th>label</th>\n",
              "      <th>label_y</th>\n",
              "    </tr>\n",
              "  </thead>\n",
              "  <tbody>\n",
              "    <tr>\n",
              "      <th>19</th>\n",
              "      <td>The ATC controller immediately activated the ...</td>\n",
              "      <td>organization-processing</td>\n",
              "      <td>6</td>\n",
              "    </tr>\n",
              "    <tr>\n",
              "      <th>131</th>\n",
              "      <td>The aircraft was damaged by the release of hi...</td>\n",
              "      <td>control process-display</td>\n",
              "      <td>1</td>\n",
              "    </tr>\n",
              "    <tr>\n",
              "      <th>35</th>\n",
              "      <td>The aircraft came to rest in 25 feet of water...</td>\n",
              "      <td>control-control process</td>\n",
              "      <td>4</td>\n",
              "    </tr>\n",
              "    <tr>\n",
              "      <th>1101</th>\n",
              "      <td>crew found themselves in poor and rapidly dete...</td>\n",
              "      <td>sensor-environment</td>\n",
              "      <td>8</td>\n",
              "    </tr>\n",
              "    <tr>\n",
              "      <th>78</th>\n",
              "      <td>2 engine fire warning</td>\n",
              "      <td>control process-display</td>\n",
              "      <td>1</td>\n",
              "    </tr>\n",
              "  </tbody>\n",
              "</table>\n",
              "</div>\n",
              "      <button class=\"colab-df-convert\" onclick=\"convertToInteractive('df-8fcc4b3f-42c6-488c-ad2d-b146ca6396cf')\"\n",
              "              title=\"Convert this dataframe to an interactive table.\"\n",
              "              style=\"display:none;\">\n",
              "        \n",
              "  <svg xmlns=\"http://www.w3.org/2000/svg\" height=\"24px\"viewBox=\"0 0 24 24\"\n",
              "       width=\"24px\">\n",
              "    <path d=\"M0 0h24v24H0V0z\" fill=\"none\"/>\n",
              "    <path d=\"M18.56 5.44l.94 2.06.94-2.06 2.06-.94-2.06-.94-.94-2.06-.94 2.06-2.06.94zm-11 1L8.5 8.5l.94-2.06 2.06-.94-2.06-.94L8.5 2.5l-.94 2.06-2.06.94zm10 10l.94 2.06.94-2.06 2.06-.94-2.06-.94-.94-2.06-.94 2.06-2.06.94z\"/><path d=\"M17.41 7.96l-1.37-1.37c-.4-.4-.92-.59-1.43-.59-.52 0-1.04.2-1.43.59L10.3 9.45l-7.72 7.72c-.78.78-.78 2.05 0 2.83L4 21.41c.39.39.9.59 1.41.59.51 0 1.02-.2 1.41-.59l7.78-7.78 2.81-2.81c.8-.78.8-2.07 0-2.86zM5.41 20L4 18.59l7.72-7.72 1.47 1.35L5.41 20z\"/>\n",
              "  </svg>\n",
              "      </button>\n",
              "      \n",
              "  <style>\n",
              "    .colab-df-container {\n",
              "      display:flex;\n",
              "      flex-wrap:wrap;\n",
              "      gap: 12px;\n",
              "    }\n",
              "\n",
              "    .colab-df-convert {\n",
              "      background-color: #E8F0FE;\n",
              "      border: none;\n",
              "      border-radius: 50%;\n",
              "      cursor: pointer;\n",
              "      display: none;\n",
              "      fill: #1967D2;\n",
              "      height: 32px;\n",
              "      padding: 0 0 0 0;\n",
              "      width: 32px;\n",
              "    }\n",
              "\n",
              "    .colab-df-convert:hover {\n",
              "      background-color: #E2EBFA;\n",
              "      box-shadow: 0px 1px 2px rgba(60, 64, 67, 0.3), 0px 1px 3px 1px rgba(60, 64, 67, 0.15);\n",
              "      fill: #174EA6;\n",
              "    }\n",
              "\n",
              "    [theme=dark] .colab-df-convert {\n",
              "      background-color: #3B4455;\n",
              "      fill: #D2E3FC;\n",
              "    }\n",
              "\n",
              "    [theme=dark] .colab-df-convert:hover {\n",
              "      background-color: #434B5C;\n",
              "      box-shadow: 0px 1px 3px 1px rgba(0, 0, 0, 0.15);\n",
              "      filter: drop-shadow(0px 1px 2px rgba(0, 0, 0, 0.3));\n",
              "      fill: #FFFFFF;\n",
              "    }\n",
              "  </style>\n",
              "\n",
              "      <script>\n",
              "        const buttonEl =\n",
              "          document.querySelector('#df-8fcc4b3f-42c6-488c-ad2d-b146ca6396cf button.colab-df-convert');\n",
              "        buttonEl.style.display =\n",
              "          google.colab.kernel.accessAllowed ? 'block' : 'none';\n",
              "\n",
              "        async function convertToInteractive(key) {\n",
              "          const element = document.querySelector('#df-8fcc4b3f-42c6-488c-ad2d-b146ca6396cf');\n",
              "          const dataTable =\n",
              "            await google.colab.kernel.invokeFunction('convertToInteractive',\n",
              "                                                     [key], {});\n",
              "          if (!dataTable) return;\n",
              "\n",
              "          const docLinkHtml = 'Like what you see? Visit the ' +\n",
              "            '<a target=\"_blank\" href=https://colab.research.google.com/notebooks/data_table.ipynb>data table notebook</a>'\n",
              "            + ' to learn more about interactive tables.';\n",
              "          element.innerHTML = '';\n",
              "          dataTable['output_type'] = 'display_data';\n",
              "          await google.colab.output.renderOutput(dataTable, element);\n",
              "          const docLink = document.createElement('div');\n",
              "          docLink.innerHTML = docLinkHtml;\n",
              "          element.appendChild(docLink);\n",
              "        }\n",
              "      </script>\n",
              "    </div>\n",
              "  </div>\n",
              "  "
            ]
          },
          "metadata": {},
          "execution_count": 32
        }
      ]
    },
    {
      "cell_type": "code",
      "metadata": {
        "id": "_QV-0CauhBGm"
      },
      "source": [
        "# load doc into memory\n",
        "def load_doc(filename):\n",
        "\t# open the file as read only\n",
        "\tfile = open(filename, 'r')\n",
        "\t# read all text\n",
        "\ttext = file.read()\n",
        "\t# close the file\n",
        "\tfile.close()\n",
        "\treturn text"
      ],
      "execution_count": 33,
      "outputs": []
    },
    {
      "cell_type": "code",
      "metadata": {
        "id": "B-iJ9fFEhDl3"
      },
      "source": [
        "# turn a doc into clean tokens\n",
        "def clean_data(data):\n",
        "\t# split into tokens by white space\n",
        "\ttokens = data.split()\n",
        "\t# remove punctuation from each token\n",
        "\ttable = str.maketrans('', '', punctuation)\n",
        "\ttokens = [w.translate(table) for w in tokens]\n",
        "\t# remove remaining tokens that are not alphabetic\n",
        "\ttokens = [word for word in tokens if word.isalpha()]\n",
        "\t# filter out stop words\n",
        "\tstop_words = set(stopwords.words('english'))\n",
        "\ttokens = [w for w in tokens if not w in stop_words]\n",
        "\t# filter out short tokens\n",
        "\ttokens = [word for word in tokens if len(word) > 1]\n",
        "\treturn tokens"
      ],
      "execution_count": 34,
      "outputs": []
    },
    {
      "cell_type": "code",
      "metadata": {
        "id": "KhabSk2jhISd"
      },
      "source": [
        "# load doc and add to vocab\n",
        "def add_doc_to_vocab(data, vocab):\n",
        "\ttokens = clean_data(data)\n",
        "\t# update counts\n",
        "\tvocab.update(tokens)"
      ],
      "execution_count": 35,
      "outputs": []
    },
    {
      "cell_type": "code",
      "metadata": {
        "id": "MnOXBmZuhMhR"
      },
      "source": [
        "# load all docs in a directory\n",
        "def process_docs(df, vocab):\n",
        "  for data in df:\n",
        "      #print(data)\n",
        "      add_doc_to_vocab(data, vocab)"
      ],
      "execution_count": 36,
      "outputs": []
    },
    {
      "cell_type": "code",
      "metadata": {
        "id": "Yj36-cJ0hbM7"
      },
      "source": [
        "from collections import Counter"
      ],
      "execution_count": 37,
      "outputs": []
    },
    {
      "cell_type": "code",
      "metadata": {
        "colab": {
          "base_uri": "https://localhost:8080/"
        },
        "id": "4nRi2jR2hRU6",
        "outputId": "2826e3f1-d5f6-4c7a-e77d-deb56e70baab"
      },
      "source": [
        "# define vocab\n",
        "vocab = Counter()\n",
        "# add all docs to vocab\n",
        "process_docs(df['Sent'], vocab)\n",
        "# print the size of the vocab\n",
        "print(len(vocab))\n",
        "# print the top words in the vocab\n",
        "print(vocab.most_common(50))"
      ],
      "execution_count": 38,
      "outputs": [
        {
          "output_type": "stream",
          "name": "stdout",
          "text": [
            "2502\n",
            "[('The', 262), ('runway', 117), ('airplane', 116), ('flight', 109), ('aircraft', 101), ('engine', 78), ('pilot', 76), ('control', 73), ('landing', 71), ('approach', 66), ('failed', 64), ('takeoff', 61), ('right', 55), ('captain', 50), ('feet', 48), ('failure', 46), ('procedures', 40), ('controller', 38), ('left', 37), ('air', 37), ('Flightcrew', 36), ('system', 36), ('due', 35), ('flightcrew', 34), ('power', 32), ('loss', 32), ('low', 31), ('descent', 31), ('accident', 30), ('Air', 30), ('traffic', 30), ('resulted', 30), ('airport', 30), ('time', 29), ('speed', 28), ('caused', 28), ('gear', 27), ('ground', 27), ('fuel', 27), ('Flight', 26), ('instrument', 26), ('pressure', 26), ('Pilot', 25), ('could', 24), ('crew', 24), ('first', 23), ('Airport', 23), ('pilots', 23), ('position', 23), ('conditions', 23)]\n"
          ]
        }
      ]
    },
    {
      "cell_type": "code",
      "metadata": {
        "colab": {
          "base_uri": "https://localhost:8080/"
        },
        "id": "n4YIFmh2mlFq",
        "outputId": "c5696196-eb16-4088-d359-055d0f74fab2"
      },
      "source": [
        "\n",
        "# keep tokens with a min occurrence\n",
        "min_occurane = 2\n",
        "tokens = [k for k,c in vocab.items() if c >= min_occurane]\n",
        "print(len(tokens))"
      ],
      "execution_count": 39,
      "outputs": [
        {
          "output_type": "stream",
          "name": "stdout",
          "text": [
            "1257\n"
          ]
        }
      ]
    },
    {
      "cell_type": "code",
      "metadata": {
        "id": "NIIXpjqXUJmA"
      },
      "source": [
        "from sklearn.model_selection import train_test_split"
      ],
      "execution_count": 40,
      "outputs": []
    },
    {
      "cell_type": "code",
      "metadata": {
        "id": "Cxi50vPM5pOI"
      },
      "source": [
        "X = df_final['Sent']\n",
        "y = df_final['label_y']"
      ],
      "execution_count": 41,
      "outputs": []
    },
    {
      "cell_type": "code",
      "metadata": {
        "id": "_5qsNx1wwIYq"
      },
      "source": [
        "X_train, X_test, y_train, y_test = train_test_split(X, y, test_size=0.2, random_state=42)"
      ],
      "execution_count": 42,
      "outputs": []
    },
    {
      "cell_type": "code",
      "metadata": {
        "id": "KHbI_Jub6D7I",
        "colab": {
          "base_uri": "https://localhost:8080/"
        },
        "outputId": "8cdc4786-e23c-4335-f4e5-539bd20955f1"
      },
      "source": [
        "X_train"
      ],
      "execution_count": 43,
      "outputs": [
        {
          "output_type": "execute_result",
          "data": {
            "text/plain": [
              "1161    loss of directional control on a slippery runway.\n",
              "35       The aircraft came to rest in 25 feet of water...\n",
              "333      The flightcrew of N805C did not see the airpo...\n",
              "1102    The controller, who could not see the runway d...\n",
              "107      Right engine anti ice failed due to light dis...\n",
              "                              ...                        \n",
              "0        The aircraft had safely landed on runway 27 a...\n",
              "20       The flight was under the command of an ATPL h...\n",
              "81       The No 2 Engine trailed white smoke throughou...\n",
              "201      The pilot of N96402 did not have radio contac...\n",
              "115      Kennedy International Airport, Jamaica, New Y...\n",
              "Name: Sent, Length: 129, dtype: object"
            ]
          },
          "metadata": {},
          "execution_count": 43
        }
      ]
    },
    {
      "cell_type": "code",
      "metadata": {
        "id": "E_1IoMiOUggu"
      },
      "source": [
        "#turn a doc into clean tokens\n",
        "def clean_doc(doc, vocab):\n",
        "\t#split into tokens by white space\n",
        "\ttokens = doc.split()\n",
        "\t#remove punctuation from each token\n",
        "\ttable = str.maketrans('', '', punctuation)\n",
        "\ttokens = [w.translate(table) for w in tokens]\n",
        "\t#filter out tokens not in vocab\n",
        "\ttokens = [w for w in tokens if w in vocab]\n",
        "\ttokens = ' '.join(tokens)\n",
        "\treturn tokens"
      ],
      "execution_count": 44,
      "outputs": []
    },
    {
      "cell_type": "code",
      "metadata": {
        "id": "FxN1Oz3mVY_W"
      },
      "source": [
        "#load all docs in a directory\n",
        "def process_docs(data, vocab):\n",
        "\tdocuments = list()\n",
        "\t#walk through all files in the folder\n",
        "\tfor sent in data:\n",
        "\t\t#clean doc\n",
        "\t\ttokens = clean_doc(sent, vocab)\n",
        "\t\t#add to list\n",
        "\t\tdocuments.append(tokens)\n",
        "\treturn documents"
      ],
      "execution_count": 45,
      "outputs": []
    },
    {
      "cell_type": "code",
      "metadata": {
        "id": "EeB_yPVzQA9V"
      },
      "source": [
        "#load all training reviews\n",
        "train_docs = process_docs(X_train, vocab)"
      ],
      "execution_count": 46,
      "outputs": []
    },
    {
      "cell_type": "code",
      "metadata": {
        "id": "Fn4kaviOmxy6",
        "colab": {
          "base_uri": "https://localhost:8080/"
        },
        "outputId": "c74f8ae0-4185-474b-ef9d-dd312786573e"
      },
      "source": [
        "train_docs"
      ],
      "execution_count": 47,
      "outputs": [
        {
          "output_type": "execute_result",
          "data": {
            "text/plain": [
              "['loss directional control slippery runway',\n",
              " 'The aircraft came rest feet water feet departure end runway',\n",
              " 'The flightcrew see airport time either change course avoid mountains start climb clear mountains',\n",
              " 'The controller could see runway due fog initially responded OK',\n",
              " 'Right engine anti ice failed due light discrepancy',\n",
              " 'There response crew flight whose last recorded transmission',\n",
              " 'Angle attack sensor blocked due icing erroneos input receive board computer',\n",
              " 'The gear warning horn light provided distraction Flightcrew',\n",
              " 'The pilots reported difficulties radio transmission',\n",
              " 'Malfunction major electrical system distracted pilot critical time',\n",
              " 'The winds time gusty variable swirling',\n",
              " 'Failure captain land airplane runway point sufficient allow safe stopping distance',\n",
              " 'He also stated able maintain altitude airplane descending Elmira approach lost radar contact airplane',\n",
              " 'The aircraft command PIC ALTP Co pilot CPL',\n",
              " 'Radar service terminated',\n",
              " 'When became clear KLM aircraft approaching takeoff speed captain applied full power throttles made sharp left turn towards grass attempt avoid impending collision',\n",
              " 'Captain raised landing gear handle positive rate climb established resulted retraction landing gear aircraft touched runway',\n",
              " 'Following one bounce final touch maximum braking full reverse thrust applied The airplane rolled overrun across airport access road airport security fence concrete highway barrier across highway',\n",
              " 'engines thrust level control cable severed',\n",
              " 'On December Eastern Standard Time northwest Airlines flight McDonnell Douglas DC Northwest Airlines flight Boeing collided near intersection runways dense fog Detroit Metropolitan Wayne County Airport Romulus Michigan',\n",
              " 'In desperation pilots KLM prematurely rotated aircraft attempted clear Pan Am lifting causing severe tail strike',\n",
              " 'The failure pilot either keep clear New York Terminal Control Area avail traffic advisory capability New York Terminal Radar Approach Control',\n",
              " 'Flightcrew failed identify localizer DME facility',\n",
              " 'Meteorological conditions obscuration terrain features landmarks snow made navigation visual references terrain avoidance difficult',\n",
              " 'An untracked beacon reinforced primary target presented display percent flight path noted controller',\n",
              " 'The trainee pilot completely lost control aircraft stall warning activated trainee pilot declared MAYDAY',\n",
              " 'Captain failed optimally use airplane decelerative devices',\n",
              " 'engine fire warning',\n",
              " 'The firewall fuel shut valve actuating cables fire extinguishing discharge line two agent bottles No',\n",
              " 'The pilot requested IFR clearance valid air traffic control',\n",
              " 'There evidence pilot radio contact air traffic facility',\n",
              " 'conditions poor visibility',\n",
              " 'Cessna pilot looking traffic prior collision looking airport drop zone',\n",
              " 'This probably imposed excessive control wheel forces prevented recovery aircraft',\n",
              " 'landing second solo sortie trainee pilot approximately',\n",
              " 'Clipper lifted runway climbed altitude feet feet ground began descend airplane struck line tress feet beyond departure end runway altitude feet ground',\n",
              " 'The ATC controller immediately activated emergency services search rescue',\n",
              " 'The last transmission received form first officer reported aircraft descending feet acknowledged clearance',\n",
              " 'After landing taxiing aircraft took early turn Taxiway Taxiway entered open rain water drain',\n",
              " 'The cabin light insufficient pilots monitor dial illuminated excute control',\n",
              " 'The continuous faulty alarm distrubing pilots concentrate communicate ATC landing coordination',\n",
              " 'AFM adequately emphasize landing distances icy runway conditions',\n",
              " 'confirm whether pilot switched auxiliary fuel tanks takeoff',\n",
              " 'Aircraft acceleration beyond reduced significantly wheel brake drag',\n",
              " 'Cessna Pilot continued flight altitude feet mean sea level without Mode encoding altimeter aboard aircraft required FAR',\n",
              " 'aircraft control tower unable see one another',\n",
              " 'Weather vicinity airport low obscured ceilings rain fog reduced visibility strong gusty winds moderate severe turbulence prevalent throughout area',\n",
              " 'The pilot unable land first approach',\n",
              " 'During landing Roll seconds touchdown speed knots left main landing gear aft trunnion pin broke aircraft started deviating left center line',\n",
              " 'Failure captain execute goaround conditions suitable landing',\n",
              " 'The fuel dispersed probably ignited hot engine components caused intense post impact fire',\n",
              " 'However final approach trainee pilot noticed bird activities approach path',\n",
              " 'The effects pilot would difficulty recognizing reacting time descent arrested impact trees',\n",
              " 'hydraulic systems also damaged engine debris',\n",
              " 'The aircraft could vacate runway became disabled taxiway tail portion projecting runway',\n",
              " 'Fog reduced visibility point pilot could ascertain position visually control tower personnel could assist pilot',\n",
              " 'Displacement seal members allowed oil escape LPLB ignite hot seal members creating stabilized fire fan shaft fail safe shaft annulus area',\n",
              " 'The crew rejected takeoff air speed indicator inoperative due blockage pitot tubes',\n",
              " 'There potential moderate severe clear air turbulence area',\n",
              " 'The aircraft command pilot SPL passenger board',\n",
              " 'last radio transmission flight recorded',\n",
              " 'Friction quality last feet runway poor unacceptable contributed severity accident',\n",
              " 'The bolts failed high engine thrust stage low pressure turbine disk separated low pressure turbine rotor assembly overspeed burst',\n",
              " 'Failure pilots aircraft see avoid',\n",
              " 'The aircraft command student trainee pilot',\n",
              " 'Local controller erred judgment violated ATC procedures cleared flight take ahead arriving Eastern Flight less required separation jeopardizing',\n",
              " 'The radar controller used poor judgment technique attempted assist flight intercepting final approach course',\n",
              " 'Major Structural damage occurred including damage Nose Landing Gear Engine inlet Cowls Fan Cowls Engine Strut Belly skin etc',\n",
              " 'The area weather dominated low obscured ceilings rain fog reduced visibility',\n",
              " 'On June trainee pilot detailed CFI Skill test solo Cessna aircraft VT BUD Baramati Airfield',\n",
              " 'The failure pilots fails may due limitations human vision inherent difficulties perceiving recognizing effectively avoiding collision',\n",
              " 'Oil leaks abutment faces IPC rear stub shaft LPLB weir abutment faces IPLB inner race front flange IPC rear stub shaft resulted inadequate lubricating oil supply LPLB',\n",
              " 'The radio interference cause pause commincation critical information rejecting landing immidiately',\n",
              " 'The acceptance large heading change issued radar controller contributed unstabilized approach',\n",
              " 'The first sortie student trainee pilot uneventful',\n",
              " 'The initial impact pucca left wing took impact loads lower metallic surface rubbing screeching ground',\n",
              " 'The pilot failed feather propeller timely manner establish aircraft minimum drag attitude following power loss',\n",
              " 'This message also blocked interference inaudible KLM crew',\n",
              " 'Aircraft lost control due encounter wake turbulence preceding aircraft altitude low recovery',\n",
              " 'Aircraft stops accelerating Aircraft attained speed VR knots Knots required takeoff',\n",
              " 'The collision occurred KLM initiated takeoff run Pan Am shrouded fog still runway turn onto taxiway',\n",
              " 'Pilots failed exercise adequate vigilance detect avoid',\n",
              " 'Within seconds getting airborne aircraft impacted ground left bank attitude',\n",
              " 'The contributed adherence ice wing leading edges blocking engines probes',\n",
              " 'electronic interference system affcted altitude meter erratic readings system heated',\n",
              " 'Actually Parking brake engaged sometime entrance aircraft start takeoff roll',\n",
              " 'Bombardier aircraft VT SUC operating scheduled flight SG involved accident due wild life strike landing roll Jabalpur',\n",
              " 'There showers east end airport east east airport along intended takeoff path',\n",
              " 'Elmirah approach lost radar contact aircraft',\n",
              " 'Flightcrew KAL could determined airplane line wrong runway cross checked heading indicators',\n",
              " 'AI involved accident UTC CSIA AirportMumbai wherein Ground Service Engineer sucked Right Engine start aircraft taxi',\n",
              " 'Aircraft rotation speed sufficient enable aircraft become airborne',\n",
              " 'crew found poor rapidly deteriorating visibility almost soon entered runway',\n",
              " 'The flight downwind within line thunderstorms area light rain showers time severe turbulence encounter',\n",
              " 'noise paarallel comminication ATC include personal phone calls distracted controller guide pilot fro landing',\n",
              " 'Localizer approach chart cause confusion portraying two DME frequencies without including precautionary note pilots use correct frequency',\n",
              " 'The captain fly square pattern intended preserve aircraft spacing fly stabilized approach directed flight manual',\n",
              " 'ft runway aircraft left wing dropped aircraft hit ground left shoulder runway beginning runway',\n",
              " 'Failure controller observe potential traffic conflict issue appropriate advisory information',\n",
              " 'The crew attempted deice aircraft intentionally positioning aircraft near exhaust aircraft ahead',\n",
              " 'At time accident weather Mountain View Airport ceiling feet visibility mile fog',\n",
              " 'Captain made en route descent Yap due scattered clouds',\n",
              " 'Patches thick fog drifting across airfield',\n",
              " 'Cessna aircraft involved accident UTC Indore Airport carrying simulated engine failure exercise',\n",
              " 'Captain raised landing gear handle positive rate climb established resulted retraction landing gear aircraft touched runway accident sequence',\n",
              " 'Air craft touched higher normal groundspeed degraded runway braking coefficient friction',\n",
              " 'Aircraft loss control due unexpected encounter moderate severe clear air turbulence',\n",
              " 'The presence nonfrangible blast fence absence safety area end runway caused fatalities',\n",
              " 'The aircraft came stop runway damage LH landing gear resting LH engine Nose RH landing Gear',\n",
              " 'Pressure emergencypark brake system applied brakes throughout takeoff roll',\n",
              " 'The training flight carried per DGCA requirement convert Australian CPL Indian CPL',\n",
              " 'Both pilots low levels Carbon Dioxide blood presumably smoking tobacco',\n",
              " 'Winds strong gusty moderate severe turbulence lower levels',\n",
              " 'The aircraft damaged release high energy engine debris',\n",
              " 'The aircraft touched feet runway covered wet snow decelerate normally feet departure end runway pilot added engine thrust rotated aircraft liftoff however get airborne insufficient flying speed',\n",
              " 'The captain proceeded make emergency landing departure overrun runway',\n",
              " 'The partial obscuration airport environment due ground fog contributed failure recognize airplane high approach airport subsequent landing attempt',\n",
              " 'Presence fog confirmed Apache pilot airborne',\n",
              " 'Jharkhand Motor glder VT GJH involved accident test flight Deoghar uncontrolled Air strip around',\n",
              " 'The aircraft nose wheel hit roof top abandoned building around ft high got airborne executing degrees turn aircraft stalled crash landed roof top nose attitude',\n",
              " 'Runway flooded standing water inch deep',\n",
              " 'Flightcrew unknowingly overflew Brews Intersection aircraft directed intended track radar vectors provided controller',\n",
              " 'The fog entered cabin rduced visibility control tower',\n",
              " 'Obstruction concrete culvert located feet beyond departure end runway also contributed severity accident',\n",
              " 'The aircraft safely landed runway UTC vacate runway via taxiway right main landing gear collapsed',\n",
              " 'The flight command ATPL holder First Officer CPL holder',\n",
              " 'The No Engine trailed white smoke throughout takeoff liftoff initial climb',\n",
              " 'The pilot radio contact air traffic facility',\n",
              " 'Kennedy International Airport Jamaica New York dumped pounds fuel']"
            ]
          },
          "metadata": {},
          "execution_count": 47
        }
      ]
    },
    {
      "cell_type": "code",
      "metadata": {
        "id": "_ABb0ByMKj3U"
      },
      "source": [
        "from keras.preprocessing.text import Tokenizer"
      ],
      "execution_count": 48,
      "outputs": []
    },
    {
      "cell_type": "code",
      "metadata": {
        "id": "5mLF8POOqEeQ"
      },
      "source": [
        "# create the tokenizer\n",
        "tokenizer = Tokenizer()\n",
        "# fit the tokenizer on the documents\n",
        "tokenizer.fit_on_texts(train_docs)"
      ],
      "execution_count": 49,
      "outputs": []
    },
    {
      "cell_type": "code",
      "metadata": {
        "id": "iDo7o-XZqNid"
      },
      "source": [
        "# sequence encode\n",
        "encoded_docs = tokenizer.texts_to_sequences(train_docs)"
      ],
      "execution_count": 50,
      "outputs": []
    },
    {
      "cell_type": "code",
      "metadata": {
        "id": "4wQ9L-zWSDil",
        "colab": {
          "base_uri": "https://localhost:8080/"
        },
        "outputId": "046793d4-5293-4ac3-9be8-93f8693d1c3d"
      },
      "source": [
        "encoded_docs"
      ],
      "execution_count": 51,
      "outputs": [
        {
          "output_type": "execute_result",
          "data": {
            "text/plain": [
              "[[82, 253, 7, 254, 3],\n",
              " [1, 2, 120, 255, 8, 83, 8, 39, 30, 3],\n",
              " [1, 40, 48, 9, 23, 121, 122, 123, 49, 124, 84, 50, 31, 124],\n",
              " [1, 15, 41, 48, 3, 13, 11, 256, 257, 258],\n",
              " [85, 10, 259, 125, 32, 13, 51, 260],\n",
              " [52, 261, 42, 6, 262, 53, 126, 54],\n",
              " [263, 264, 265, 127, 13, 266, 267, 268, 269, 128, 270],\n",
              " [1, 14, 86, 271, 51, 129, 272, 40],\n",
              " [1, 16, 130, 131, 43, 54],\n",
              " [273, 132, 274, 55, 133, 4, 134, 23],\n",
              " [1, 87, 23, 88, 275, 276],\n",
              " [19, 17, 135, 20, 3, 136, 137, 277, 138, 278, 279],\n",
              " [280, 56, 281, 282, 283, 33, 20, 139, 284, 12, 57, 24, 58, 20],\n",
              " [1, 2, 59, 285, 286, 287, 4, 60],\n",
              " [24, 140, 288],\n",
              " [289,\n",
              "  141,\n",
              "  31,\n",
              "  61,\n",
              "  2,\n",
              "  290,\n",
              "  18,\n",
              "  34,\n",
              "  17,\n",
              "  89,\n",
              "  142,\n",
              "  143,\n",
              "  291,\n",
              "  90,\n",
              "  292,\n",
              "  25,\n",
              "  62,\n",
              "  293,\n",
              "  294,\n",
              "  144,\n",
              "  49,\n",
              "  295,\n",
              "  63],\n",
              " [17, 145, 5, 14, 146, 147, 148, 50, 149, 91, 150, 5, 14, 2, 64, 3],\n",
              " [151,\n",
              "  152,\n",
              "  296,\n",
              "  92,\n",
              "  297,\n",
              "  298,\n",
              "  153,\n",
              "  142,\n",
              "  299,\n",
              "  65,\n",
              "  89,\n",
              "  1,\n",
              "  20,\n",
              "  300,\n",
              "  154,\n",
              "  93,\n",
              "  9,\n",
              "  301,\n",
              "  302,\n",
              "  9,\n",
              "  303,\n",
              "  155,\n",
              "  156,\n",
              "  157,\n",
              "  304,\n",
              "  93,\n",
              "  157],\n",
              " [158, 65, 159, 7, 305, 306],\n",
              " [160,\n",
              "  307,\n",
              "  161,\n",
              "  308,\n",
              "  23,\n",
              "  162,\n",
              "  163,\n",
              "  6,\n",
              "  309,\n",
              "  310,\n",
              "  311,\n",
              "  162,\n",
              "  163,\n",
              "  6,\n",
              "  312,\n",
              "  313,\n",
              "  164,\n",
              "  165,\n",
              "  314,\n",
              "  315,\n",
              "  11,\n",
              "  316,\n",
              "  317,\n",
              "  318,\n",
              "  319,\n",
              "  9,\n",
              "  320,\n",
              "  321],\n",
              " [322, 323, 16, 61, 324, 166, 2, 94, 31, 167, 168, 325, 326, 35, 169, 170],\n",
              " [1,\n",
              "  19,\n",
              "  4,\n",
              "  121,\n",
              "  327,\n",
              "  31,\n",
              "  95,\n",
              "  96,\n",
              "  171,\n",
              "  7,\n",
              "  26,\n",
              "  328,\n",
              "  36,\n",
              "  172,\n",
              "  329,\n",
              "  95,\n",
              "  96,\n",
              "  171,\n",
              "  24,\n",
              "  12,\n",
              "  7],\n",
              " [40, 32, 330, 173, 174, 97],\n",
              " [331, 66, 175, 176, 332, 333, 177, 90, 334, 335, 336, 176, 337, 338],\n",
              " [339, 340, 341, 342, 343, 344, 345, 346, 347, 6, 98, 348, 15],\n",
              " [1, 27, 4, 349, 57, 7, 2, 350, 86, 178, 27, 4, 351, 352],\n",
              " [17, 32, 353, 179, 20, 354, 355],\n",
              " [10, 67, 86],\n",
              " [1, 356, 68, 357, 358, 359, 360, 67, 361, 362, 44, 180, 363, 364, 181],\n",
              " [1, 4, 365, 366, 182, 367, 21, 36, 7],\n",
              " [52, 368, 4, 43, 58, 21, 36, 97],\n",
              " [66, 69, 28],\n",
              " [70, 4, 183, 36, 369, 63, 183, 9, 370, 371],\n",
              " [184, 185, 372, 373, 7, 99, 374, 375, 186, 2],\n",
              " [5, 376, 187, 188, 27, 4, 377],\n",
              " [378,\n",
              "  379,\n",
              "  3,\n",
              "  380,\n",
              "  33,\n",
              "  8,\n",
              "  8,\n",
              "  29,\n",
              "  381,\n",
              "  382,\n",
              "  20,\n",
              "  383,\n",
              "  44,\n",
              "  384,\n",
              "  8,\n",
              "  100,\n",
              "  39,\n",
              "  30,\n",
              "  3,\n",
              "  33,\n",
              "  8,\n",
              "  29],\n",
              " [1, 71, 15, 385, 178, 189, 386, 387, 388],\n",
              " [1, 53, 54, 389, 390, 72, 190, 130, 2, 139, 8, 391, 182],\n",
              " [392, 5, 393, 2, 191, 394, 62, 45, 45, 101, 395, 73, 83, 396],\n",
              " [1, 192, 51, 193, 16, 397, 398, 399, 400, 7],\n",
              " [1, 401, 402, 403, 404, 16, 405, 406, 71, 5, 407],\n",
              " [408, 409, 410, 5, 411, 412, 3, 66],\n",
              " [413, 414, 4, 415, 416, 68, 417, 18],\n",
              " [2, 418, 100, 74, 419, 99, 102, 194],\n",
              " [70, 4, 420, 6, 33, 8, 421, 422, 159, 195, 423, 424, 425, 426, 2, 103, 427],\n",
              " [2, 7, 104, 196, 48, 152, 428],\n",
              " [105,\n",
              "  429,\n",
              "  9,\n",
              "  37,\n",
              "  197,\n",
              "  198,\n",
              "  73,\n",
              "  11,\n",
              "  74,\n",
              "  28,\n",
              "  199,\n",
              "  88,\n",
              "  87,\n",
              "  75,\n",
              "  35,\n",
              "  38,\n",
              "  430,\n",
              "  106,\n",
              "  26],\n",
              " [1, 4, 196, 135, 72, 12],\n",
              " [431,\n",
              "  5,\n",
              "  76,\n",
              "  200,\n",
              "  432,\n",
              "  34,\n",
              "  107,\n",
              "  25,\n",
              "  201,\n",
              "  5,\n",
              "  14,\n",
              "  433,\n",
              "  434,\n",
              "  435,\n",
              "  436,\n",
              "  2,\n",
              "  437,\n",
              "  438,\n",
              "  25,\n",
              "  439,\n",
              "  44],\n",
              " [19, 17, 440, 441, 66, 442, 5],\n",
              " [1, 68, 443, 185, 444, 202, 10, 445, 203, 446, 447, 77, 67],\n",
              " [204, 92, 12, 27, 4, 448, 449, 450, 12, 98],\n",
              " [1, 451, 4, 452, 453, 205, 454, 23, 206, 455, 77, 456],\n",
              " [457, 458, 56, 207, 10, 208],\n",
              " [1, 2, 41, 209, 3, 141, 459, 45, 169, 460, 461, 3],\n",
              " [11, 74, 28, 136, 4, 41, 462, 463, 464, 7, 104, 465, 41, 210, 4],\n",
              " [466,\n",
              "  211,\n",
              "  212,\n",
              "  467,\n",
              "  108,\n",
              "  468,\n",
              "  109,\n",
              "  469,\n",
              "  202,\n",
              "  211,\n",
              "  212,\n",
              "  470,\n",
              "  213,\n",
              "  67,\n",
              "  214,\n",
              "  78,\n",
              "  471,\n",
              "  138,\n",
              "  78,\n",
              "  472,\n",
              "  26],\n",
              " [1, 42, 473, 18, 21, 34, 474, 475, 13, 476, 477, 478],\n",
              " [52, 215, 75, 35, 31, 21, 38, 26],\n",
              " [1, 2, 59, 4, 479, 480, 128],\n",
              " [53, 43, 54, 6, 126],\n",
              " [216, 481, 53, 8, 3, 69, 482, 46, 217, 22],\n",
              " [1,\n",
              "  483,\n",
              "  32,\n",
              "  79,\n",
              "  10,\n",
              "  65,\n",
              "  484,\n",
              "  37,\n",
              "  110,\n",
              "  218,\n",
              "  485,\n",
              "  486,\n",
              "  37,\n",
              "  110,\n",
              "  218,\n",
              "  487,\n",
              "  488,\n",
              "  489,\n",
              "  490],\n",
              " [19, 16, 2, 48, 49],\n",
              " [1, 2, 59, 219, 27, 4],\n",
              " [491,\n",
              "  15,\n",
              "  492,\n",
              "  220,\n",
              "  493,\n",
              "  71,\n",
              "  494,\n",
              "  495,\n",
              "  6,\n",
              "  496,\n",
              "  221,\n",
              "  497,\n",
              "  161,\n",
              "  6,\n",
              "  498,\n",
              "  103,\n",
              "  499,\n",
              "  500],\n",
              " [1, 24, 15, 501, 69, 220, 502, 94, 210, 6, 503, 92, 12, 123],\n",
              " [132,\n",
              "  504,\n",
              "  111,\n",
              "  222,\n",
              "  223,\n",
              "  111,\n",
              "  80,\n",
              "  5,\n",
              "  14,\n",
              "  10,\n",
              "  505,\n",
              "  224,\n",
              "  214,\n",
              "  224,\n",
              "  10,\n",
              "  506,\n",
              "  507,\n",
              "  508,\n",
              "  509],\n",
              " [1, 26, 105, 510, 37, 197, 198, 73, 11, 74, 28],\n",
              " [160, 511, 27, 4, 512, 513, 514, 225, 187, 70, 2, 112, 515, 516, 226],\n",
              " [1, 19, 16, 517, 518, 13, 519, 520, 521, 522, 131, 523, 205, 524, 525, 63],\n",
              " [108,\n",
              "  526,\n",
              "  227,\n",
              "  228,\n",
              "  229,\n",
              "  230,\n",
              "  231,\n",
              "  78,\n",
              "  109,\n",
              "  527,\n",
              "  227,\n",
              "  228,\n",
              "  528,\n",
              "  529,\n",
              "  530,\n",
              "  531,\n",
              "  532,\n",
              "  229,\n",
              "  230,\n",
              "  231,\n",
              "  78,\n",
              "  91,\n",
              "  533,\n",
              "  534,\n",
              "  108,\n",
              "  535,\n",
              "  109],\n",
              " [1, 43, 113, 232, 536, 537, 134, 233, 538, 5, 539],\n",
              " [1, 540, 541, 234, 122, 542, 24, 15, 46, 543, 12],\n",
              " [1, 72, 188, 219, 27, 4, 544],\n",
              " [1, 235, 77, 545, 25, 114, 191, 77, 546, 236, 547, 548, 549, 550, 29],\n",
              " [1, 4, 32, 551, 552, 553, 554, 555, 2, 556, 194, 115, 151, 143, 82],\n",
              " [184, 557, 56, 127, 113, 558, 61, 42],\n",
              " [2, 57, 7, 13, 116, 559, 38, 560, 2, 33, 37, 186],\n",
              " [2, 561, 562, 2, 563, 34, 564, 107, 107, 103, 18],\n",
              " [1, 63, 222, 61, 565, 18, 566, 167, 168, 567, 11, 568, 3, 62, 569, 45],\n",
              " [16, 32, 237, 570, 571, 572, 49],\n",
              " [238, 200, 573, 47, 2, 574, 29, 25, 575, 115],\n",
              " [1, 46, 576, 125, 114, 577, 578, 579, 158, 580],\n",
              " [581, 113, 55, 582, 33, 583, 584, 585, 55, 586],\n",
              " [587, 588, 102, 589, 590, 591, 2, 84, 18, 76],\n",
              " [592, 2, 112, 593, 594, 595, 6, 596, 81, 22, 13, 597, 598, 170, 5, 76, 599],\n",
              " [52, 239, 117, 30, 9, 117, 117, 9, 600, 118, 18, 98],\n",
              " [601, 12, 57, 24, 58, 2],\n",
              " [40, 602, 41, 603, 20, 44, 604, 3, 605, 606, 234, 607],\n",
              " [608, 81, 22, 119, 609, 610, 611, 29, 140, 612, 613, 85, 10, 84, 2, 614],\n",
              " [2, 615, 34, 137, 616, 2, 617, 47],\n",
              " [42, 618, 69, 619, 620, 28, 621, 622, 101, 3],\n",
              " [1, 6, 623, 238, 44, 624, 26, 51, 73, 239, 23, 35, 38, 116],\n",
              " [625, 626, 627, 71, 628, 629, 630, 631, 133, 15, 632, 4, 633, 5],\n",
              " [173,\n",
              "  12,\n",
              "  634,\n",
              "  232,\n",
              "  635,\n",
              "  636,\n",
              "  180,\n",
              "  174,\n",
              "  637,\n",
              "  195,\n",
              "  223,\n",
              "  638,\n",
              "  639,\n",
              "  16,\n",
              "  179,\n",
              "  640,\n",
              "  641],\n",
              " [1, 17, 240, 642, 643, 118, 644, 2, 645, 240, 213, 12, 241, 6, 646],\n",
              " [242, 3, 2, 25, 114, 647, 2, 243, 29, 25, 648, 3, 649, 3],\n",
              " [19, 15, 650, 215, 36, 651, 652, 653, 172, 233],\n",
              " [1, 42, 94, 654, 2, 655, 656, 2, 164, 657, 2, 221],\n",
              " [658, 23, 22, 105, 659, 660, 9, 661, 8, 28, 662, 11],\n",
              " [17, 90, 663, 664, 206, 665, 13, 666, 667],\n",
              " [668, 669, 11, 670, 93, 226],\n",
              " [70, 2, 81, 22, 119, 671, 9, 672, 673, 10, 19, 237],\n",
              " [17, 145, 5, 14, 146, 147, 148, 50, 149, 91, 150, 5, 14, 2, 64, 3, 22, 674],\n",
              " [21, 675, 64, 676, 677, 678, 679, 3, 153, 680, 216],\n",
              " [2, 82, 7, 13, 681, 116, 75, 35, 31, 21, 38],\n",
              " [1, 244, 682, 683, 155, 684, 685, 26, 30, 3, 203, 686],\n",
              " [1, 2, 120, 687, 3, 111, 245, 5, 14, 688, 245, 10, 80, 689, 5, 14],\n",
              " [110, 690, 102, 55, 89, 691, 106, 18, 76],\n",
              " [1, 692, 6, 693, 694, 695, 696, 697, 698, 60, 699, 60],\n",
              " [700, 16, 37, 246, 701, 702, 703, 704, 705, 706],\n",
              " [87, 199, 88, 75, 35, 38, 236, 246],\n",
              " [1, 2, 207, 707, 79, 708, 10, 208],\n",
              " [1,\n",
              "  2,\n",
              "  64,\n",
              "  8,\n",
              "  3,\n",
              "  709,\n",
              "  710,\n",
              "  177,\n",
              "  711,\n",
              "  712,\n",
              "  8,\n",
              "  39,\n",
              "  30,\n",
              "  3,\n",
              "  4,\n",
              "  713,\n",
              "  10,\n",
              "  65,\n",
              "  166,\n",
              "  2,\n",
              "  247,\n",
              "  204,\n",
              "  714,\n",
              "  47,\n",
              "  193,\n",
              "  715,\n",
              "  34],\n",
              " [1, 17, 716, 717, 189, 5, 39, 154, 3],\n",
              " [1, 718, 175, 9, 719, 13, 29, 11, 46, 19, 720, 20, 79, 12, 9, 721, 5, 144],\n",
              " [244, 11, 722, 723, 4, 47],\n",
              " [724, 725, 726, 112, 727, 81, 22, 225, 6, 728, 729, 21, 730, 248],\n",
              " [1,\n",
              "  2,\n",
              "  80,\n",
              "  99,\n",
              "  243,\n",
              "  249,\n",
              "  250,\n",
              "  731,\n",
              "  732,\n",
              "  248,\n",
              "  242,\n",
              "  79,\n",
              "  733,\n",
              "  47,\n",
              "  734,\n",
              "  735,\n",
              "  62,\n",
              "  2,\n",
              "  736,\n",
              "  737,\n",
              "  251,\n",
              "  249,\n",
              "  250,\n",
              "  80,\n",
              "  115],\n",
              " [3, 738, 739, 83, 740, 741],\n",
              " [40, 742, 743, 744, 165, 2, 241, 118, 745, 24, 746, 129, 15],\n",
              " [1, 11, 101, 192, 747, 28, 7, 104],\n",
              " [748, 156, 749, 750, 8, 100, 39, 30, 3, 56, 46, 217, 22],\n",
              " [1, 2, 751, 251, 3, 119, 209, 3, 752, 45, 85, 201, 5, 14, 753],\n",
              " [1, 6, 59, 754, 252, 72, 190, 60, 252],\n",
              " [1, 181, 10, 755, 756, 757, 106, 18, 247, 235, 50],\n",
              " [1, 4, 43, 58, 21, 36, 97],\n",
              " [758, 759, 9, 760, 95, 96, 761, 762, 68]]"
            ]
          },
          "metadata": {},
          "execution_count": 51
        }
      ]
    },
    {
      "cell_type": "markdown",
      "metadata": {
        "id": "6j0eTYHaqc8C"
      },
      "source": [
        "We also need to ensure that all documents have the same length.\n",
        "\n",
        "This is a requirement of Keras for efficient computation. We could truncate reviews to the smallest size or zero-pad (pad with the value ‘0’) reviews to the maximum length, or some hybrid. In this case, we will pad all reviews to the length of the longest review in the training dataset.\n",
        "\n",
        "First, we can find the longest review using the max() function on the training dataset and take its length. We can then call the Keras function pad_sequences() to pad the sequences to the maximum length by adding 0 values on the end."
      ]
    },
    {
      "cell_type": "code",
      "metadata": {
        "id": "XfRwNr--Lcu4"
      },
      "source": [
        "from keras.preprocessing.sequence import pad_sequences"
      ],
      "execution_count": 52,
      "outputs": []
    },
    {
      "cell_type": "code",
      "metadata": {
        "id": "3OscNg99QTUV"
      },
      "source": [
        "# pad sequences\n",
        "max_length = max([len(s.split()) for s in train_docs])\n",
        "Xtrain = pad_sequences(encoded_docs, maxlen=max_length, padding='post')\n",
        "#Ytrain = train['label_y']"
      ],
      "execution_count": 53,
      "outputs": []
    },
    {
      "cell_type": "code",
      "metadata": {
        "colab": {
          "base_uri": "https://localhost:8080/"
        },
        "id": "X_v-HMPNSTjW",
        "outputId": "b27873dd-4647-4283-cc59-9a1697ef002f"
      },
      "source": [
        "Xtrain"
      ],
      "execution_count": 54,
      "outputs": [
        {
          "output_type": "execute_result",
          "data": {
            "text/plain": [
              "array([[ 82, 253,   7, ...,   0,   0,   0],\n",
              "       [  1,   2, 120, ...,   0,   0,   0],\n",
              "       [  1,  40,  48, ...,   0,   0,   0],\n",
              "       ...,\n",
              "       [  1, 181,  10, ...,   0,   0,   0],\n",
              "       [  1,   4,  43, ...,   0,   0,   0],\n",
              "       [758, 759,   9, ...,   0,   0,   0]], dtype=int32)"
            ]
          },
          "metadata": {},
          "execution_count": 54
        }
      ]
    },
    {
      "cell_type": "code",
      "metadata": {
        "id": "uSWe-gZ823mj",
        "colab": {
          "base_uri": "https://localhost:8080/"
        },
        "outputId": "ecc007ff-678d-4c1a-ad7b-3f2cfc4b26a8"
      },
      "source": [
        "y_train"
      ],
      "execution_count": 55,
      "outputs": [
        {
          "output_type": "execute_result",
          "data": {
            "text/plain": [
              "1161    10\n",
              "35       4\n",
              "333      9\n",
              "1102     8\n",
              "107      2\n",
              "        ..\n",
              "0        4\n",
              "20       6\n",
              "81       1\n",
              "201      5\n",
              "115      0\n",
              "Name: label_y, Length: 129, dtype: int64"
            ]
          },
          "metadata": {},
          "execution_count": 55
        }
      ]
    },
    {
      "cell_type": "code",
      "metadata": {
        "id": "CoGQPGDTwjt7"
      },
      "source": [
        "#load all test reviews\n",
        "test_docs = process_docs(X_test, vocab)"
      ],
      "execution_count": 56,
      "outputs": []
    },
    {
      "cell_type": "code",
      "metadata": {
        "id": "cV2Z8qs5x9RC",
        "colab": {
          "base_uri": "https://localhost:8080/"
        },
        "outputId": "e0a9f180-4756-45db-d3d1-967cb4dbf413"
      },
      "source": [
        "test_docs"
      ],
      "execution_count": 57,
      "outputs": [
        {
          "output_type": "execute_result",
          "data": {
            "text/plain": [
              "['In order avoid birds trainee pilot took continuous right turn approach track thereafter got completely disoriented flight path',\n",
              " 'Cessna aircraft VT CAX involved forced landing accident operating flight Ranchi Fursatganj Airfield Raibarely',\n",
              " 'Weather time accident characterized subfreezing temperature almost steady moderatetoheavysnowfall obscured visibility',\n",
              " 'Pitot tube covered mud daubers nest',\n",
              " 'Cessna Citation pilot copilot three passengers aboard overran end runway following instrument landing system approach crashed burned Mercer County Airport BluefieldWest Virginia',\n",
              " 'The fuel tanks ruptured principal tree impact',\n",
              " 'Captain failed immediately initiate goaround instructed air traffic controller',\n",
              " 'The displacement fan module course engine failure sequence caused loss hydraulic systems AB jammed first rudder pedals neutral position',\n",
              " 'The airplane came rest drainage ditch airport perimeter',\n",
              " 'Oil leaks caused poor mating abutment surfaces',\n",
              " 'The controller made several attempts contact aircraft avail',\n",
              " 'The winds time gusty variable swirling',\n",
              " 'simultaneous radio call Pan Am crew caused mutual interference radio frequency',\n",
              " 'The captain stated may detour around thunderstorms also replied turn',\n",
              " 'Hydraulic fluid spillage occurred due damage LH main landing gear',\n",
              " 'No engine fire warning occurred shortly takeoff',\n",
              " 'Flightcrew set takeoff thrust reference EPR gauges target indicator',\n",
              " 'The aircraft kept deviating flight path also kept loosing height speed',\n",
              " 'The training flight authorized Flight Instructor carryout solo local circuit landing exercise',\n",
              " 'Flightcrew realize actual position aircraft flight cleared instrument approach',\n",
              " 'About February Cessna TU United States Air Force tactical aircraft General Dynamics collided midair nmi northeast Cannon Air Force Base',\n",
              " 'Pilot induced airframe overload following loss aircraft control resulted structural breakup aircraft',\n",
              " 'pilot operating environment conducive structural icing without either airplane ice protection system activated',\n",
              " 'Led failure stop taxing airplane alert ground controller positional uncertainty timely manner intruding onto active runway The captain attempted takeoff runway visibility less thn mile The runway centerline lights runway illuminated time accident The placement taxiway signs conspicuity taxiway markings runway lighting inadequate DTW time accident',\n",
              " 'Hot gases fan shaft annulus fire carried cooling air passages fail safe shaft overheated weakened fall safe shat let fail torsional tensile mode',\n",
              " 'Fan shaft failed torsional shear heat degraded shafts material properties',\n",
              " 'At time low ceilings low visibility coupled moderate turbulence thunderstorm activity prevailed vicinity West End Settlement',\n",
              " 'The air traffic controller made several unsuccessful attempts contact airplane',\n",
              " 'attempt land slush covered runway insufficient stopping distance available',\n",
              " 'The smoke probably caused leaking oil seal one power recovery turbines',\n",
              " 'The pilot failed feather propeller timely manner establish aircraft minimum drag attitude following power loss',\n",
              " 'Failure pilot Korean Air Lines Flight follow accepted procedures taxi caused become disoriented selecting runway',\n",
              " 'Some moisture got instrument air system']"
            ]
          },
          "metadata": {},
          "execution_count": 57
        }
      ]
    },
    {
      "cell_type": "code",
      "metadata": {
        "id": "fWxAqpw9xUj-"
      },
      "source": [
        "# sequence encode\n",
        "encoded_docs = tokenizer.texts_to_sequences(test_docs)"
      ],
      "execution_count": 58,
      "outputs": []
    },
    {
      "cell_type": "code",
      "metadata": {
        "id": "yMU4exJtxcX_"
      },
      "source": [
        "# pad sequences\n",
        "Xtest = pad_sequences(encoded_docs, maxlen=max_length, padding='post')\n",
        "#Ytest = test['label_y']"
      ],
      "execution_count": 59,
      "outputs": []
    },
    {
      "cell_type": "code",
      "metadata": {
        "id": "ffrTW1nWx3sS",
        "colab": {
          "base_uri": "https://localhost:8080/"
        },
        "outputId": "3fd1895e-d9ed-4942-af65-54072c60ff4a"
      },
      "source": [
        "Xtest"
      ],
      "execution_count": 60,
      "outputs": [
        {
          "output_type": "execute_result",
          "data": {
            "text/plain": [
              "array([[322,  49,  27,   4, 191, 401,  85,  62,  12, 745, 733, 349,   6,\n",
              "         98,   0,   0,   0,   0,   0,   0,   0,   0,   0,   0,   0,   0,\n",
              "          0,   0],\n",
              "       [ 70,   2, 112,  81,   5,  22, 594,   6, 226,   0,   0,   0,   0,\n",
              "          0,   0,   0,   0,   0,   0,   0,   0,   0,   0,   0,   0,   0,\n",
              "          0,   0],\n",
              "       [105,  23,  22, 621, 197,  28,   0,   0,   0,   0,   0,   0,   0,\n",
              "          0,   0,   0,   0,   0,   0,   0,   0,   0,   0,   0,   0,   0,\n",
              "          0,   0],\n",
              "       [477, 709,   0,   0,   0,   0,   0,   0,   0,   0,   0,   0,   0,\n",
              "          0,   0,   0,   0,   0,   0,   0,   0,   0,   0,   0,   0,   0,\n",
              "          0,   0],\n",
              "       [ 70,   4, 426,  30,   3, 151,   5,  55,  12, 319,   9,   0,   0,\n",
              "          0,   0,   0,   0,   0,   0,   0,   0,   0,   0,   0,   0,   0,\n",
              "          0,   0],\n",
              "       [  1,  68, 417,  77,   0,   0,   0,   0,   0,   0,   0,   0,   0,\n",
              "          0,   0,   0,   0,   0,   0,   0,   0,   0,   0,   0,   0,   0,\n",
              "          0,   0],\n",
              "       [ 17,  32, 385, 441,  21,  36,  15,   0,   0,   0,   0,   0,   0,\n",
              "          0,   0,   0,   0,   0,   0,   0,   0,   0,   0,   0,   0,   0,\n",
              "          0,   0],\n",
              "       [  1, 466, 214, 123,  10,  19, 674, 203,  82, 457, 458,  72, 463,\n",
              "          0,   0,   0,   0,   0,   0,   0,   0,   0,   0,   0,   0,   0,\n",
              "          0,   0],\n",
              "       [  1,  20, 120, 255,   9,   0,   0,   0,   0,   0,   0,   0,   0,\n",
              "          0,   0,   0,   0,   0,   0,   0,   0,   0,   0,   0,   0,   0,\n",
              "          0,   0],\n",
              "       [108, 526, 203,  69, 227,   0,   0,   0,   0,   0,   0,   0,   0,\n",
              "          0,   0,   0,   0,   0,   0,   0,   0,   0,   0,   0,   0,   0,\n",
              "          0,   0],\n",
              "       [  1,  15,  90,  58,   2, 328,   0,   0,   0,   0,   0,   0,   0,\n",
              "          0,   0,   0,   0,   0,   0,   0,   0,   0,   0,   0,   0,   0,\n",
              "          0,   0],\n",
              "       [  1,  87,  23,  88, 275, 276,   0,   0,   0,   0,   0,   0,   0,\n",
              "          0,   0,   0,   0,   0,   0,   0,   0,   0,   0,   0,   0,   0,\n",
              "          0,   0],\n",
              "       [ 43, 167, 168,  42, 203, 113,  43, 641,   0,   0,   0,   0,   0,\n",
              "          0,   0,   0,   0,   0,   0,   0,   0,   0,   0,   0,   0,   0,\n",
              "          0,   0],\n",
              "       [  1,  17, 281, 518, 248, 624,  56,  62,   0,   0,   0,   0,   0,\n",
              "          0,   0,   0,   0,   0,   0,   0,   0,   0,   0,   0,   0,   0,\n",
              "          0,   0],\n",
              "       [457, 222,  13, 111, 245, 201,   5,  14,   0,   0,   0,   0,   0,\n",
              "          0,   0,   0,   0,   0,   0,   0,   0,   0,   0,   0,   0,   0,\n",
              "          0,   0],\n",
              "       [181,  10,  67,  86, 222,  18,   0,   0,   0,   0,   0,   0,   0,\n",
              "          0,   0,   0,   0,   0,   0,   0,   0,   0,   0,   0,   0,   0,\n",
              "          0,   0],\n",
              "       [ 40,  18,  65, 344, 474,   0,   0,   0,   0,   0,   0,   0,   0,\n",
              "          0,   0,   0,   0,   0,   0,   0,   0,   0,   0,   0,   0,   0,\n",
              "          0,   0],\n",
              "       [  1,   2, 438,   6,  98,  56,  34,   0,   0,   0,   0,   0,   0,\n",
              "          0,   0,   0,   0,   0,   0,   0,   0,   0,   0,   0,   0,   0,\n",
              "          0,   0],\n",
              "       [  1, 692,   6,   6, 187, 491,   5, 237,   0,   0,   0,   0,   0,\n",
              "          0,   0,   0,   0,   0,   0,   0,   0,   0,   0,   0,   0,   0,\n",
              "          0,   0],\n",
              "       [ 40, 463,   2,   6, 495,  12,   0,   0,   0,   0,   0,   0,   0,\n",
              "          0,   0,   0,   0,   0,   0,   0,   0,   0,   0,   0,   0,   0,\n",
              "          0,   0],\n",
              "       [ 70,  21,   2, 313,  21,   0,   0,   0,   0,   0,   0,   0,   0,\n",
              "          0,   0,   0,   0,   0,   0,   0,   0,   0,   0,   0,   0,   0,\n",
              "          0,   0],\n",
              "       [  4, 151,  82,   2,   7,  91, 504,   2,   0,   0,   0,   0,   0,\n",
              "          0,   0,   0,   0,   0,   0,   0,   0,   0,   0,   0,   0,   0,\n",
              "          0,   0],\n",
              "       [  4, 594, 719, 504, 266, 195, 121,  20, 125,  55, 178,   0,   0,\n",
              "          0,   0,   0,   0,   0,   0,   0,   0,   0,   0,   0,   0,   0,\n",
              "          0,   0],\n",
              "       [ 20,  29,  15, 553, 554, 569,   3,   1,  17,  94,  18,   3,  28,\n",
              "        498, 662,   1,   3,   3, 399,  23,  22,   1,  45,  45,   3, 533,\n",
              "         23,  22],\n",
              "       [202, 214,  78, 472,  67, 693,  21, 471, 138,  78, 138, 471, 423,\n",
              "          0,   0,   0,   0,   0,   0,   0,   0,   0,   0,   0,   0,   0,\n",
              "          0,   0],\n",
              "       [214,  78,  32, 679,   0,   0,   0,   0,   0,   0,   0,   0,   0,\n",
              "          0,   0,   0,   0,   0,   0,   0,   0,   0,   0,   0,   0,   0,\n",
              "          0,   0],\n",
              "       [658,  23,  37, 198,  37,  28,  75,  38, 429,  30,   0,   0,   0,\n",
              "          0,   0,   0,   0,   0,   0,   0,   0,   0,   0,   0,   0,   0,\n",
              "          0,   0],\n",
              "       [  1,  21,  36,  15,  90,  58,  20,   0,   0,   0,   0,   0,   0,\n",
              "          0,   0,   0,   0,   0,   0,   0,   0,   0,   0,   0,   0,   0,\n",
              "          0,   0],\n",
              "       [144, 135, 709,   3, 193, 278, 279,   0,   0,   0,   0,   0,   0,\n",
              "          0,   0,   0,   0,   0,   0,   0,   0,   0,   0,   0,   0,   0,\n",
              "          0,   0],\n",
              "       [  1, 757, 185, 203, 108, 211, 152, 143, 186,   0,   0,   0,   0,\n",
              "          0,   0,   0,   0,   0,   0,   0,   0,   0,   0,   0,   0,   0,\n",
              "          0,   0],\n",
              "       [  1,   4,  32, 551, 552, 553, 554, 555,   2, 556, 194, 115, 151,\n",
              "        143,  82,   0,   0,   0,   0,   0,   0,   0,   0,   0,   0,   0,\n",
              "          0,   0],\n",
              "       [ 19,   4,  21,   6, 494, 614, 203, 617,   3,   0,   0,   0,   0,\n",
              "          0,   0,   0,   0,   0,   0,   0,   0,   0,   0,   0,   0,   0,\n",
              "          0,   0],\n",
              "       [733,  21,  55,   0,   0,   0,   0,   0,   0,   0,   0,   0,   0,\n",
              "          0,   0,   0,   0,   0,   0,   0,   0,   0,   0,   0,   0,   0,\n",
              "          0,   0]], dtype=int32)"
            ]
          },
          "metadata": {},
          "execution_count": 60
        }
      ]
    },
    {
      "cell_type": "code",
      "metadata": {
        "id": "TGbvf91a6xMG",
        "colab": {
          "base_uri": "https://localhost:8080/"
        },
        "outputId": "79640b5f-ebd4-48ed-db2c-f88f1e718b51"
      },
      "source": [
        "Xtrain"
      ],
      "execution_count": 61,
      "outputs": [
        {
          "output_type": "execute_result",
          "data": {
            "text/plain": [
              "array([[ 82, 253,   7, ...,   0,   0,   0],\n",
              "       [  1,   2, 120, ...,   0,   0,   0],\n",
              "       [  1,  40,  48, ...,   0,   0,   0],\n",
              "       ...,\n",
              "       [  1, 181,  10, ...,   0,   0,   0],\n",
              "       [  1,   4,  43, ...,   0,   0,   0],\n",
              "       [758, 759,   9, ...,   0,   0,   0]], dtype=int32)"
            ]
          },
          "metadata": {},
          "execution_count": 61
        }
      ]
    },
    {
      "cell_type": "code",
      "metadata": {
        "id": "lQiqGrejQou9"
      },
      "source": [
        "# define vocabulary size (largest integer value)\n",
        "vocab_size = len(tokenizer.word_index) + 1"
      ],
      "execution_count": 62,
      "outputs": []
    },
    {
      "cell_type": "code",
      "metadata": {
        "colab": {
          "base_uri": "https://localhost:8080/"
        },
        "id": "0m19UYNwRFXl",
        "outputId": "83e9f5b4-b568-4bb3-eeb3-725ec4cfb19d"
      },
      "source": [
        "print(len(X_train))"
      ],
      "execution_count": 63,
      "outputs": [
        {
          "output_type": "stream",
          "name": "stdout",
          "text": [
            "129\n"
          ]
        }
      ]
    },
    {
      "cell_type": "code",
      "metadata": {
        "colab": {
          "base_uri": "https://localhost:8080/"
        },
        "id": "QGy-LHir3KgN",
        "outputId": "703cbdf1-2fb0-40be-a493-c496e3a79e20"
      },
      "source": [
        "y_test.unique()"
      ],
      "execution_count": 64,
      "outputs": [
        {
          "output_type": "execute_result",
          "data": {
            "text/plain": [
              "array([ 6,  4, 10,  2,  0,  3,  7,  1,  8,  5,  9])"
            ]
          },
          "metadata": {},
          "execution_count": 64
        }
      ]
    },
    {
      "cell_type": "code",
      "metadata": {
        "colab": {
          "base_uri": "https://localhost:8080/"
        },
        "id": "lpUkIO6y3_iR",
        "outputId": "2fb462c9-2f12-4655-d826-835fbba615e4"
      },
      "source": [
        "max_length"
      ],
      "execution_count": 65,
      "outputs": [
        {
          "output_type": "execute_result",
          "data": {
            "text/plain": [
              "28"
            ]
          },
          "metadata": {},
          "execution_count": 65
        }
      ]
    },
    {
      "cell_type": "code",
      "metadata": {
        "id": "zo-wyOQO-5Ig"
      },
      "source": [
        "import tensorflow as tf"
      ],
      "execution_count": 66,
      "outputs": []
    },
    {
      "cell_type": "code",
      "metadata": {
        "id": "NMPQtH8t-04I"
      },
      "source": [
        "y_train = tf.keras.utils.to_categorical(y_train, num_classes=11)\n",
        "y_test = tf.keras.utils.to_categorical(y_test, num_classes=11)"
      ],
      "execution_count": 67,
      "outputs": []
    },
    {
      "cell_type": "code",
      "metadata": {
        "id": "SQQFnQU0RzBJ"
      },
      "source": [
        "# define model\n",
        "#Initialize model, reshape & normalize data\n",
        "tf.keras.backend.clear_session()\n",
        "model = tf.keras.models.Sequential()"
      ],
      "execution_count": 68,
      "outputs": []
    },
    {
      "cell_type": "code",
      "metadata": {
        "id": "524oXElI_ZDl"
      },
      "source": [
        "model.add(tf.keras.layers.Embedding(vocab_size,30,input_length=max_length))\n",
        "#normalize data\n",
        "model.add(tf.keras.layers.BatchNormalization())"
      ],
      "execution_count": 69,
      "outputs": []
    },
    {
      "cell_type": "code",
      "metadata": {
        "id": "lm2DiY_tDro1"
      },
      "source": [
        "#model.add(tf.keras.layers.Conv1D(filters=16, kernel_size=5, activation='relu'))"
      ],
      "execution_count": 70,
      "outputs": []
    },
    {
      "cell_type": "code",
      "metadata": {
        "id": "YumHJsrExtpP"
      },
      "source": [
        "#Add 1st hidden layer\n",
        "model.add(tf.keras.layers.Dense(60, activation='relu'))\n",
        "model.add(tf.keras.layers.BatchNormalization())\n",
        "#model.add(tf.keras.layers.Dropout(0.4))\n",
        "#model.add(tf.keras.layers.Conv1D(filters=16, kernel_size=5, activation='relu'))"
      ],
      "execution_count": 71,
      "outputs": []
    },
    {
      "cell_type": "code",
      "metadata": {
        "colab": {
          "base_uri": "https://localhost:8080/"
        },
        "id": "AdUgSXpt_mWw",
        "outputId": "0a9278b1-239a-47c6-8f00-b2ab4d5da992"
      },
      "source": [
        "model.add(tf.keras.layers.Conv1D(filters=16, kernel_size=5, activation='relu'))\n",
        "model.add(tf.keras.layers.Conv1D(filters=16, kernel_size=5, activation='relu'))\n",
        "#model.add(tf.keras.layers.MaxPooling1D(pool_size=2))\n",
        "\n",
        "#model.add(tf.keras.layers.Dense(30, activation='sigmoid'))\n",
        "model.add(tf.keras.layers.BatchNormalization())\n",
        "model.add(tf.keras.layers.Dropout(0.3))\n",
        "model.add(tf.keras.layers.Flatten())\n",
        "model.add(tf.keras.layers.BatchNormalization())\n",
        "model.add(tf.keras.layers.Dense(11, activation='softmax'))\n",
        "print(model.summary())"
      ],
      "execution_count": 72,
      "outputs": [
        {
          "output_type": "stream",
          "name": "stdout",
          "text": [
            "Model: \"sequential\"\n",
            "_________________________________________________________________\n",
            " Layer (type)                Output Shape              Param #   \n",
            "=================================================================\n",
            " embedding (Embedding)       (None, 28, 30)            22890     \n",
            "                                                                 \n",
            " batch_normalization (BatchN  (None, 28, 30)           120       \n",
            " ormalization)                                                   \n",
            "                                                                 \n",
            " dense (Dense)               (None, 28, 60)            1860      \n",
            "                                                                 \n",
            " batch_normalization_1 (Batc  (None, 28, 60)           240       \n",
            " hNormalization)                                                 \n",
            "                                                                 \n",
            " conv1d (Conv1D)             (None, 24, 16)            4816      \n",
            "                                                                 \n",
            " conv1d_1 (Conv1D)           (None, 20, 16)            1296      \n",
            "                                                                 \n",
            " batch_normalization_2 (Batc  (None, 20, 16)           64        \n",
            " hNormalization)                                                 \n",
            "                                                                 \n",
            " dropout (Dropout)           (None, 20, 16)            0         \n",
            "                                                                 \n",
            " flatten (Flatten)           (None, 320)               0         \n",
            "                                                                 \n",
            " batch_normalization_3 (Batc  (None, 320)              1280      \n",
            " hNormalization)                                                 \n",
            "                                                                 \n",
            " dense_1 (Dense)             (None, 11)                3531      \n",
            "                                                                 \n",
            "=================================================================\n",
            "Total params: 36,097\n",
            "Trainable params: 35,245\n",
            "Non-trainable params: 852\n",
            "_________________________________________________________________\n",
            "None\n"
          ]
        }
      ]
    },
    {
      "cell_type": "code",
      "metadata": {
        "id": "-58veFuXFYH0",
        "colab": {
          "base_uri": "https://localhost:8080/"
        },
        "outputId": "0689dc76-1397-43e6-d080-a55552632c6c"
      },
      "source": [
        "sgd_optimizer = tf.keras.optimizers.SGD(lr=0.1, decay=0.01,momentum = 0.9)\n",
        "model.compile(optimizer=sgd_optimizer, loss='categorical_crossentropy', metrics=['accuracy'])"
      ],
      "execution_count": 73,
      "outputs": [
        {
          "output_type": "stream",
          "name": "stderr",
          "text": [
            "/usr/local/lib/python3.7/dist-packages/keras/optimizer_v2/gradient_descent.py:102: UserWarning: The `lr` argument is deprecated, use `learning_rate` instead.\n",
            "  super(SGD, self).__init__(name, **kwargs)\n"
          ]
        }
      ]
    },
    {
      "cell_type": "code",
      "metadata": {
        "id": "d095z5ZF1bwe",
        "colab": {
          "base_uri": "https://localhost:8080/"
        },
        "outputId": "6b83ee3b-04be-4197-a59b-23fc7345f601"
      },
      "source": [
        "#Lets train for 10 more steps\n",
        "hist_model = model.fit(Xtrain, y_train,\n",
        "                             epochs=30,\n",
        "                             initial_epoch=0,\n",
        "                             batch_size = 16,    \n",
        "                             validation_data=(Xtest,y_test))"
      ],
      "execution_count": 78,
      "outputs": [
        {
          "output_type": "stream",
          "name": "stdout",
          "text": [
            "Epoch 1/30\n",
            "9/9 [==============================] - 0s 14ms/step - loss: 0.9808 - accuracy: 0.6744 - val_loss: 3.7107 - val_accuracy: 0.0909\n",
            "Epoch 2/30\n",
            "9/9 [==============================] - 0s 9ms/step - loss: 1.0077 - accuracy: 0.6512 - val_loss: 4.2261 - val_accuracy: 0.1212\n",
            "Epoch 3/30\n",
            "9/9 [==============================] - 0s 12ms/step - loss: 0.9082 - accuracy: 0.6279 - val_loss: 4.8160 - val_accuracy: 0.1212\n",
            "Epoch 4/30\n",
            "9/9 [==============================] - 0s 10ms/step - loss: 0.9225 - accuracy: 0.6434 - val_loss: 4.3515 - val_accuracy: 0.1212\n",
            "Epoch 5/30\n",
            "9/9 [==============================] - 0s 8ms/step - loss: 0.9198 - accuracy: 0.6744 - val_loss: 4.4178 - val_accuracy: 0.0606\n",
            "Epoch 6/30\n",
            "9/9 [==============================] - 0s 11ms/step - loss: 0.7156 - accuracy: 0.7907 - val_loss: 4.7895 - val_accuracy: 0.0909\n",
            "Epoch 7/30\n",
            "9/9 [==============================] - 0s 10ms/step - loss: 0.7427 - accuracy: 0.7519 - val_loss: 4.5146 - val_accuracy: 0.1212\n",
            "Epoch 8/30\n",
            "9/9 [==============================] - 0s 8ms/step - loss: 0.6255 - accuracy: 0.7752 - val_loss: 4.5524 - val_accuracy: 0.1818\n",
            "Epoch 9/30\n",
            "9/9 [==============================] - 0s 8ms/step - loss: 0.6959 - accuracy: 0.7209 - val_loss: 4.6077 - val_accuracy: 0.1212\n",
            "Epoch 10/30\n",
            "9/9 [==============================] - 0s 8ms/step - loss: 0.5863 - accuracy: 0.7907 - val_loss: 4.8452 - val_accuracy: 0.1212\n",
            "Epoch 11/30\n",
            "9/9 [==============================] - 0s 8ms/step - loss: 0.6289 - accuracy: 0.7829 - val_loss: 4.8082 - val_accuracy: 0.1212\n",
            "Epoch 12/30\n",
            "9/9 [==============================] - 0s 10ms/step - loss: 0.6269 - accuracy: 0.8140 - val_loss: 5.0349 - val_accuracy: 0.2121\n",
            "Epoch 13/30\n",
            "9/9 [==============================] - 0s 12ms/step - loss: 0.5597 - accuracy: 0.7674 - val_loss: 5.0874 - val_accuracy: 0.0909\n",
            "Epoch 14/30\n",
            "9/9 [==============================] - 0s 12ms/step - loss: 0.4077 - accuracy: 0.8992 - val_loss: 5.1558 - val_accuracy: 0.0909\n",
            "Epoch 15/30\n",
            "9/9 [==============================] - 0s 13ms/step - loss: 0.4998 - accuracy: 0.8527 - val_loss: 5.2063 - val_accuracy: 0.0909\n",
            "Epoch 16/30\n",
            "9/9 [==============================] - 0s 13ms/step - loss: 0.5723 - accuracy: 0.7752 - val_loss: 4.8718 - val_accuracy: 0.0909\n",
            "Epoch 17/30\n",
            "9/9 [==============================] - 0s 10ms/step - loss: 0.4870 - accuracy: 0.7907 - val_loss: 4.9198 - val_accuracy: 0.1212\n",
            "Epoch 18/30\n",
            "9/9 [==============================] - 0s 14ms/step - loss: 0.4260 - accuracy: 0.8450 - val_loss: 4.8548 - val_accuracy: 0.1818\n",
            "Epoch 19/30\n",
            "9/9 [==============================] - 0s 12ms/step - loss: 0.4093 - accuracy: 0.8760 - val_loss: 5.1934 - val_accuracy: 0.1818\n",
            "Epoch 20/30\n",
            "9/9 [==============================] - 0s 12ms/step - loss: 0.4468 - accuracy: 0.8605 - val_loss: 5.4157 - val_accuracy: 0.1515\n",
            "Epoch 21/30\n",
            "9/9 [==============================] - 0s 12ms/step - loss: 0.3161 - accuracy: 0.9380 - val_loss: 5.4930 - val_accuracy: 0.1818\n",
            "Epoch 22/30\n",
            "9/9 [==============================] - 0s 9ms/step - loss: 0.4177 - accuracy: 0.8605 - val_loss: 5.2551 - val_accuracy: 0.1515\n",
            "Epoch 23/30\n",
            "9/9 [==============================] - 0s 8ms/step - loss: 0.3927 - accuracy: 0.8605 - val_loss: 5.3574 - val_accuracy: 0.1515\n",
            "Epoch 24/30\n",
            "9/9 [==============================] - 0s 8ms/step - loss: 0.3237 - accuracy: 0.8760 - val_loss: 5.5774 - val_accuracy: 0.2121\n",
            "Epoch 25/30\n",
            "9/9 [==============================] - 0s 10ms/step - loss: 0.3268 - accuracy: 0.8837 - val_loss: 5.6715 - val_accuracy: 0.1212\n",
            "Epoch 26/30\n",
            "9/9 [==============================] - 0s 9ms/step - loss: 0.3091 - accuracy: 0.9147 - val_loss: 5.5678 - val_accuracy: 0.1212\n",
            "Epoch 27/30\n",
            "9/9 [==============================] - 0s 9ms/step - loss: 0.3530 - accuracy: 0.8915 - val_loss: 5.6532 - val_accuracy: 0.1212\n",
            "Epoch 28/30\n",
            "9/9 [==============================] - 0s 8ms/step - loss: 0.3000 - accuracy: 0.8915 - val_loss: 5.6063 - val_accuracy: 0.1515\n",
            "Epoch 29/30\n",
            "9/9 [==============================] - 0s 10ms/step - loss: 0.3398 - accuracy: 0.8915 - val_loss: 5.6811 - val_accuracy: 0.1515\n",
            "Epoch 30/30\n",
            "9/9 [==============================] - 0s 8ms/step - loss: 0.2645 - accuracy: 0.9070 - val_loss: 5.7564 - val_accuracy: 0.1515\n"
          ]
        }
      ]
    },
    {
      "cell_type": "code",
      "metadata": {
        "colab": {
          "base_uri": "https://localhost:8080/"
        },
        "id": "uE_40wZkGAFD",
        "outputId": "a0891f02-d36c-4598-e05e-a1172306a8b3"
      },
      "source": [
        "scores = model.evaluate(Xtest, y_test, verbose=0)\n",
        "scores"
      ],
      "execution_count": 79,
      "outputs": [
        {
          "output_type": "execute_result",
          "data": {
            "text/plain": [
              "[5.756433486938477, 0.1515151560306549]"
            ]
          },
          "metadata": {},
          "execution_count": 79
        }
      ]
    },
    {
      "cell_type": "code",
      "metadata": {
        "colab": {
          "base_uri": "https://localhost:8080/",
          "height": 295
        },
        "id": "Vx-lslO0FJrA",
        "outputId": "64ecc8b9-66d0-43e2-f367-c47e6e3cd90f"
      },
      "source": [
        "# summarize history for loss\n",
        "plt.plot(hist_model.history['loss'])\n",
        "plt.plot(hist_model.history['val_loss'])\n",
        "plt.title('model loss')\n",
        "plt.ylabel('loss')\n",
        "plt.xlabel('epoch')\n",
        "plt.legend(['train', 'test'], loc='upper left')\n",
        "plt.axis(ymin =0, ymax =1)\n",
        "plt.show()"
      ],
      "execution_count": 80,
      "outputs": [
        {
          "output_type": "display_data",
          "data": {
            "text/plain": [
              "<Figure size 432x288 with 1 Axes>"
            ],
            "image/png": "[encoded data removed]"
          },
          "metadata": {
            "needs_background": "light"
          }
        }
      ]
    },
    {
      "cell_type": "code",
      "metadata": {
        "colab": {
          "base_uri": "https://localhost:8080/",
          "height": 295
        },
        "id": "Ib88VvX3Fi6d",
        "outputId": "daa4c67f-502f-44a9-8fd0-0d0c555e3871"
      },
      "source": [
        "# summarize history for accuracy\n",
        "plt.plot(hist_model.history['accuracy'])\n",
        "plt.plot(hist_model.history['val_accuracy'])\n",
        "plt.title('model accuracy')\n",
        "plt.ylabel('accuracy')\n",
        "plt.xlabel('epoch')\n",
        "plt.legend(['train', 'test'], loc='lower right')\n",
        "plt.axis(ymin =0, ymax =1)\n",
        "plt.show()"
      ],
      "execution_count": 81,
      "outputs": [
        {
          "output_type": "display_data",
          "data": {
            "text/plain": [
              "<Figure size 432x288 with 1 Axes>"
            ],
            "image/png": "[encoded data removed]"
          },
          "metadata": {
            "needs_background": "light"
          }
        }
      ]
    },
    {
      "cell_type": "code",
      "metadata": {
        "id": "F-xU-rZ-9RJn"
      },
      "source": [
        "final_model = model"
      ],
      "execution_count": 82,
      "outputs": []
    },
    {
      "cell_type": "code",
      "metadata": {
        "id": "P6jPIehoGKEb"
      },
      "source": [
        "import numpy as np\n",
        "import sklearn.metrics as metrics\n",
        "import seaborn as sn"
      ],
      "execution_count": 83,
      "outputs": []
    },
    {
      "cell_type": "code",
      "metadata": {
        "id": "a0IhXGFCFvlt"
      },
      "source": [
        "y_pred_ohe = final_model.predict(Xtrain)  # shape=(n_samples, 12)\n",
        "y_pred_labels = np.argmax(y_pred_ohe, axis=1) "
      ],
      "execution_count": 84,
      "outputs": []
    },
    {
      "cell_type": "code",
      "metadata": {
        "id": "r2lmztLiGOZN"
      },
      "source": [
        "y_true_labels = np.argmax(y_train, axis=1)"
      ],
      "execution_count": 85,
      "outputs": []
    },
    {
      "cell_type": "code",
      "metadata": {
        "colab": {
          "base_uri": "https://localhost:8080/"
        },
        "id": "oscmseg7GUlw",
        "outputId": "2d2990fe-6d9b-404b-a7f3-d98cd80c0d44"
      },
      "source": [
        "confusion_matrix = metrics.confusion_matrix(y_true=y_true_labels, y_pred=y_pred_labels) \n",
        "confusion_matrix"
      ],
      "execution_count": 86,
      "outputs": [
        {
          "output_type": "execute_result",
          "data": {
            "text/plain": [
              "array([[10,  0,  0,  0,  0,  1,  0,  0,  0,  0,  0],\n",
              "       [ 0,  8,  0,  0,  0,  1,  0,  0,  0,  0,  0],\n",
              "       [ 0,  0, 12,  0,  0,  0,  0,  0,  0,  0,  0],\n",
              "       [ 0,  0,  0,  9,  0,  0,  0,  0,  0,  0,  0],\n",
              "       [ 0,  0,  0,  0, 13,  0,  0,  0,  0,  0,  0],\n",
              "       [ 0,  0,  0,  0,  0, 13,  0,  0,  0,  0,  0],\n",
              "       [ 0,  0,  0,  0,  0,  0, 12,  0,  0,  0,  0],\n",
              "       [ 0,  0,  0,  0,  0,  0,  0, 12,  0,  0,  0],\n",
              "       [ 0,  0,  0,  0,  0,  1,  0,  0, 11,  0,  0],\n",
              "       [ 0,  0,  0,  0,  0,  0,  0,  0,  0, 13,  0],\n",
              "       [ 0,  0,  0,  0,  0,  0,  0,  0,  0,  0, 13]])"
            ]
          },
          "metadata": {},
          "execution_count": 86
        }
      ]
    },
    {
      "cell_type": "code",
      "metadata": {
        "colab": {
          "base_uri": "https://localhost:8080/",
          "height": 446
        },
        "id": "N-tlBs_7HCS0",
        "outputId": "fd3e137f-6953-4c8d-dae7-11c15fe37e81"
      },
      "source": [
        "plt.figure(figsize = (10,7))\n",
        "sn.heatmap(confusion_matrix, annot=True)"
      ],
      "execution_count": 87,
      "outputs": [
        {
          "output_type": "execute_result",
          "data": {
            "text/plain": [
              "<matplotlib.axes._subplots.AxesSubplot at 0x7fc0b39387d0>"
            ]
          },
          "metadata": {},
          "execution_count": 87
        },
        {
          "output_type": "display_data",
          "data": {
            "text/plain": [
              "<Figure size 720x504 with 2 Axes>"
            ],
            "image/png": "[encoded data removed]"
          },
          "metadata": {
            "needs_background": "light"
          }
        }
      ]
    }
  ]
}